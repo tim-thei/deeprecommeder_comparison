{
 "cells": [
  {
   "cell_type": "code",
   "execution_count": 32,
   "metadata": {},
   "outputs": [
    {
     "data": {
      "text/plain": [
       "DataTransformerRegistry.enable('vegafusion')"
      ]
     },
     "execution_count": 32,
     "metadata": {},
     "output_type": "execute_result"
    }
   ],
   "source": [
    "import pandas as pd\n",
    "import matplotlib.pyplot as plt\n",
    "import altair as alt\n",
    "alt.data_transformers.enable(\"vegafusion\")"
   ]
  },
  {
   "cell_type": "markdown",
   "metadata": {},
   "source": [
    "# MovieLens"
   ]
  },
  {
   "cell_type": "markdown",
   "metadata": {},
   "source": [
    "## Load Data"
   ]
  },
  {
   "cell_type": "code",
   "execution_count": 33,
   "metadata": {},
   "outputs": [],
   "source": [
    "#read MovieLens 100k\n",
    "ml_100k = pd.read_csv('ml-100k/u.data', sep='\\t', header=None, names=['User', 'Movie', 'Rating', 'Timestamp'])\n",
    "\n",
    "#read MovieLens 1m\n",
    "ml_1m = pd.read_csv('ml-1m/ml-1M_ratings.dat', sep='::', engine='python', header=None, names=['User', 'Movie', 'Rating', 'Timestamp'])"
   ]
  },
  {
   "cell_type": "markdown",
   "metadata": {},
   "source": [
    "## Compare ML 100k and 1M"
   ]
  },
  {
   "cell_type": "code",
   "execution_count": 34,
   "metadata": {},
   "outputs": [],
   "source": [
    "import pandas as pd\n",
    "\n",
    "def MovieLens_features(df, dataset_name):\n",
    "    \"\"\"\n",
    "    Calculate various statistics and features from a MovieLens DataFrame.\n",
    "\n",
    "    Parameters:\n",
    "    - df (pd.DataFrame): MovieLens DataFrame with columns 'User', 'Movie', 'Rating', 'Timestamp'.\n",
    "    - dataset_name (String): Name of the dataset,  which will later be displayed.\n",
    "\n",
    "    Returns:\n",
    "    - pd.DataFrame: One-row DataFrame containing calculated features.\n",
    "    \"\"\"\n",
    "    # Number of ratings\n",
    "    n_ratings = len(df)\n",
    "\n",
    "    # Number of unique users and movies\n",
    "    n_user = len(df['User'].unique())\n",
    "    n_movie = len(df['Movie'].unique())\n",
    "\n",
    "    # Average number of ratings per user and movie\n",
    "    avr_ratings_user = n_ratings / n_user\n",
    "    avr_ratings_movie = n_ratings / n_movie\n",
    "\n",
    "    # Sparcity\n",
    "    sparc = n_ratings / (n_user * n_movie)\n",
    "\n",
    "    # Time of the first and latest rating\n",
    "    time_first = pd.to_datetime(df['Timestamp'].min(), unit='s')\n",
    "    time_last = pd.to_datetime(df['Timestamp'].max(), unit='s')\n",
    "\n",
    "    # Average rating\n",
    "    rating_avr = df['Rating'].mean()\n",
    "\n",
    "    # Percentage of ratings for each category\n",
    "    perc_5 = len(df[df['Rating'].isin([5, 4.5])]) / n_ratings\n",
    "    perc_4 = len(df[df['Rating'].isin([4, 3.5])]) / n_ratings\n",
    "    perc_3 = len(df[df['Rating'].isin([3, 2.5])]) / n_ratings\n",
    "    perc_2 = len(df[df['Rating'].isin([2, 1.5])]) / n_ratings\n",
    "    perc_1 = len(df[df['Rating'].isin([1, 0.5])]) / n_ratings\n",
    "\n",
    "    # Create a one-row DataFrame with calculated features\n",
    "    features_df = pd.DataFrame({\n",
    "        'Dataset': [dataset_name],\n",
    "        'Number_of_Ratings': [n_ratings],\n",
    "        'Number_of_Unique_Users': [n_user],\n",
    "        'Number_of_Unique_Movies': [n_movie],\n",
    "        'Average_Ratings_Per_User': [avr_ratings_user],\n",
    "        'Average_Ratings_Per_Movie': [avr_ratings_movie],\n",
    "        'Sparcity': [sparc],\n",
    "        'Time_of_First_Rating': [time_first],\n",
    "        'Time_of_Latest_Rating': [time_last],\n",
    "        'Average_Rating': [rating_avr],\n",
    "        'Percentage_of_5_Star_Ratings': [perc_5],\n",
    "        'Percentage_of_4_Star_Ratings': [perc_4],\n",
    "        'Percentage_of_3_Star_Ratings': [perc_3],\n",
    "        'Percentage_of_2_Star_Ratings': [perc_2],\n",
    "        'Percentage_of_1_Star_Ratings': [perc_1],\n",
    "    })\n",
    "\n",
    "    return features_df"
   ]
  },
  {
   "cell_type": "code",
   "execution_count": 35,
   "metadata": {},
   "outputs": [
    {
     "data": {
      "text/html": [
       "<div>\n",
       "<style scoped>\n",
       "    .dataframe tbody tr th:only-of-type {\n",
       "        vertical-align: middle;\n",
       "    }\n",
       "\n",
       "    .dataframe tbody tr th {\n",
       "        vertical-align: top;\n",
       "    }\n",
       "\n",
       "    .dataframe thead th {\n",
       "        text-align: right;\n",
       "    }\n",
       "</style>\n",
       "<table border=\"1\" class=\"dataframe\">\n",
       "  <thead>\n",
       "    <tr style=\"text-align: right;\">\n",
       "      <th></th>\n",
       "      <th>Dataset</th>\n",
       "      <th>Number_of_Ratings</th>\n",
       "      <th>Number_of_Unique_Users</th>\n",
       "      <th>Number_of_Unique_Movies</th>\n",
       "      <th>Average_Ratings_Per_User</th>\n",
       "      <th>Average_Ratings_Per_Movie</th>\n",
       "      <th>Sparcity</th>\n",
       "      <th>Time_of_First_Rating</th>\n",
       "      <th>Time_of_Latest_Rating</th>\n",
       "      <th>Average_Rating</th>\n",
       "      <th>Percentage_of_5_Star_Ratings</th>\n",
       "      <th>Percentage_of_4_Star_Ratings</th>\n",
       "      <th>Percentage_of_3_Star_Ratings</th>\n",
       "      <th>Percentage_of_2_Star_Ratings</th>\n",
       "      <th>Percentage_of_1_Star_Ratings</th>\n",
       "    </tr>\n",
       "  </thead>\n",
       "  <tbody>\n",
       "    <tr>\n",
       "      <th>0</th>\n",
       "      <td>MovieLens 100k</td>\n",
       "      <td>100000</td>\n",
       "      <td>943</td>\n",
       "      <td>1682</td>\n",
       "      <td>106.044539</td>\n",
       "      <td>59.453032</td>\n",
       "      <td>0.063047</td>\n",
       "      <td>1997-09-20 03:05:10</td>\n",
       "      <td>1998-04-22 23:10:38</td>\n",
       "      <td>3.529860</td>\n",
       "      <td>0.212010</td>\n",
       "      <td>0.341740</td>\n",
       "      <td>0.271450</td>\n",
       "      <td>0.113700</td>\n",
       "      <td>0.061100</td>\n",
       "    </tr>\n",
       "    <tr>\n",
       "      <th>0</th>\n",
       "      <td>MovieLens 1M</td>\n",
       "      <td>1000209</td>\n",
       "      <td>6040</td>\n",
       "      <td>3706</td>\n",
       "      <td>165.597517</td>\n",
       "      <td>269.889099</td>\n",
       "      <td>0.044684</td>\n",
       "      <td>2000-04-25 23:05:32</td>\n",
       "      <td>2003-02-28 17:49:50</td>\n",
       "      <td>3.581564</td>\n",
       "      <td>0.226263</td>\n",
       "      <td>0.348898</td>\n",
       "      <td>0.261142</td>\n",
       "      <td>0.107535</td>\n",
       "      <td>0.056162</td>\n",
       "    </tr>\n",
       "  </tbody>\n",
       "</table>\n",
       "</div>"
      ],
      "text/plain": [
       "          Dataset  Number_of_Ratings  Number_of_Unique_Users  \\\n",
       "0  MovieLens 100k             100000                     943   \n",
       "0    MovieLens 1M            1000209                    6040   \n",
       "\n",
       "   Number_of_Unique_Movies  Average_Ratings_Per_User  \\\n",
       "0                     1682                106.044539   \n",
       "0                     3706                165.597517   \n",
       "\n",
       "   Average_Ratings_Per_Movie  Sparcity Time_of_First_Rating  \\\n",
       "0                  59.453032  0.063047  1997-09-20 03:05:10   \n",
       "0                 269.889099  0.044684  2000-04-25 23:05:32   \n",
       "\n",
       "  Time_of_Latest_Rating  Average_Rating  Percentage_of_5_Star_Ratings  \\\n",
       "0   1998-04-22 23:10:38        3.529860                      0.212010   \n",
       "0   2003-02-28 17:49:50        3.581564                      0.226263   \n",
       "\n",
       "   Percentage_of_4_Star_Ratings  Percentage_of_3_Star_Ratings  \\\n",
       "0                      0.341740                      0.271450   \n",
       "0                      0.348898                      0.261142   \n",
       "\n",
       "   Percentage_of_2_Star_Ratings  Percentage_of_1_Star_Ratings  \n",
       "0                      0.113700                      0.061100  \n",
       "0                      0.107535                      0.056162  "
      ]
     },
     "execution_count": 35,
     "metadata": {},
     "output_type": "execute_result"
    }
   ],
   "source": [
    "compare = pd.DataFrame()\n",
    "compare = pd.concat([compare, MovieLens_features(ml_100k, 'MovieLens 100k')])\n",
    "compare = pd.concat([compare, MovieLens_features(ml_1m, 'MovieLens 1M')])\n",
    "\n",
    "compare"
   ]
  },
  {
   "cell_type": "markdown",
   "metadata": {},
   "source": [
    "The dataframe compares three versions of the MovieLens dataset. The first version contains 100,000 ratings surveyed between September 1997 and April 1998. The second version contains 1 million ratings surveyed from April 2000 to February 2003. The last version contains 25 million ratings surveyed from 1995 to 2019.\n",
    "\n",
    "There is little difference in the rating distribution between all three datasets. The only notable difference is that the version with 25 million ratings has ratings with half stars like 0.5, 1.5, and so on, while the other two only include integer values from 1 to 5.\n",
    "\n",
    "While less sparse, the 100k version has a lot fewer ratings per user and per movie than the other two. However, averages should be taken with a grain of salt in this context, as they are sensitive towards outliers.\n",
    "\n",
    "The 25M version should probably not be used with a model that does not factor in time, as the ratings are allocated over 24 years. In this timeframe, technology and, therefore, audio and video quality improved a lot, and therefore the same rating in 1995 and 2019 should have different implications."
   ]
  },
  {
   "cell_type": "code",
   "execution_count": 36,
   "metadata": {},
   "outputs": [
    {
     "data": {
      "text/plain": [
       "array([3, 1, 2, 4, 5], dtype=int64)"
      ]
     },
     "execution_count": 36,
     "metadata": {},
     "output_type": "execute_result"
    }
   ],
   "source": [
    "ml_100k.Rating.unique()"
   ]
  },
  {
   "cell_type": "code",
   "execution_count": 37,
   "metadata": {},
   "outputs": [
    {
     "data": {
      "text/plain": [
       "Text(0.5, 1.0, 'Rating Distribution Comparison')"
      ]
     },
     "execution_count": 37,
     "metadata": {},
     "output_type": "execute_result"
    },
    {
     "data": {
      "image/png": "[encoded data removed]",
      "text/plain": [
       "<Figure size 640x480 with 1 Axes>"
      ]
     },
     "metadata": {},
     "output_type": "display_data"
    }
   ],
   "source": [
    "rating_share_1 = ml_100k['Rating'].value_counts(normalize=True).sort_index()\n",
    "rating_share_2 = ml_1m['Rating'].value_counts(normalize=True).sort_index()\n",
    "\n",
    "bar_width = 0.35\n",
    "bar_pos_1 = rating_share_1.index - bar_width/2\n",
    "bar_pos_2 = rating_share_2.index + bar_width/2\n",
    "\n",
    "plt.bar(bar_pos_1, rating_share_1.values, width=bar_width, label='ML 100k', color='skyblue')\n",
    "plt.bar(bar_pos_2, rating_share_2.values, width=bar_width, label='ML 1M', color='orange')\n",
    "plt.legend()\n",
    "plt.xlabel('Rating')\n",
    "plt.ylabel('Share')\n",
    "plt.title('Rating Distribution Comparison')"
   ]
  },
  {
   "cell_type": "code",
   "execution_count": 38,
   "metadata": {},
   "outputs": [
    {
     "data": {
      "text/html": [
       "\n",
       "<style>\n",
       "  #altair-viz-2ff10de373204ec69b6c44c28651cf6f.vega-embed {\n",
       "    width: 100%;\n",
       "    display: flex;\n",
       "  }\n",
       "\n",
       "  #altair-viz-2ff10de373204ec69b6c44c28651cf6f.vega-embed details,\n",
       "  #altair-viz-2ff10de373204ec69b6c44c28651cf6f.vega-embed details summary {\n",
       "    position: relative;\n",
       "  }\n",
       "</style>\n",
       "<div id=\"altair-viz-2ff10de373204ec69b6c44c28651cf6f\"></div>\n",
       "<script type=\"text/javascript\">\n",
       "  var VEGA_DEBUG = (typeof VEGA_DEBUG == \"undefined\") ? {} : VEGA_DEBUG;\n",
       "  (function(spec, embedOpt){\n",
       "    let outputDiv = document.currentScript.previousElementSibling;\n",
       "    if (outputDiv.id !== \"altair-viz-2ff10de373204ec69b6c44c28651cf6f\") {\n",
       "      outputDiv = document.getElementById(\"altair-viz-2ff10de373204ec69b6c44c28651cf6f\");\n",
       "    }\n",
       "    const paths = {\n",
       "      \"vega\": \"https://cdn.jsdelivr.net/npm/vega@5?noext\",\n",
       "      \"vega-lib\": \"https://cdn.jsdelivr.net/npm/vega-lib?noext\",\n",
       "      \"vega-lite\": \"https://cdn.jsdelivr.net/npm/vega-lite@5.16.3?noext\",\n",
       "      \"vega-embed\": \"https://cdn.jsdelivr.net/npm/vega-embed@6?noext\",\n",
       "    };\n",
       "\n",
       "    function maybeLoadScript(lib, version) {\n",
       "      var key = `${lib.replace(\"-\", \"\")}_version`;\n",
       "      return (VEGA_DEBUG[key] == version) ?\n",
       "        Promise.resolve(paths[lib]) :\n",
       "        new Promise(function(resolve, reject) {\n",
       "          var s = document.createElement('script');\n",
       "          document.getElementsByTagName(\"head\")[0].appendChild(s);\n",
       "          s.async = true;\n",
       "          s.onload = () => {\n",
       "            VEGA_DEBUG[key] = version;\n",
       "            return resolve(paths[lib]);\n",
       "          };\n",
       "          s.onerror = () => reject(`Error loading script: ${paths[lib]}`);\n",
       "          s.src = paths[lib];\n",
       "        });\n",
       "    }\n",
       "\n",
       "    function showError(err) {\n",
       "      outputDiv.innerHTML = `<div class=\"error\" style=\"color:red;\">${err}</div>`;\n",
       "      throw err;\n",
       "    }\n",
       "\n",
       "    function displayChart(vegaEmbed) {\n",
       "      vegaEmbed(outputDiv, spec, embedOpt)\n",
       "        .catch(err => showError(`Javascript Error: ${err.message}<br>This usually means there's a typo in your chart specification. See the javascript console for the full traceback.`));\n",
       "    }\n",
       "\n",
       "    if(typeof define === \"function\" && define.amd) {\n",
       "      requirejs.config({paths});\n",
       "      require([\"vega-embed\"], displayChart, err => showError(`Error loading script: ${err.message}`));\n",
       "    } else {\n",
       "      maybeLoadScript(\"vega\", \"5\")\n",
       "        .then(() => maybeLoadScript(\"vega-lite\", \"5.16.3\"))\n",
       "        .then(() => maybeLoadScript(\"vega-embed\", \"6\"))\n",
       "        .catch(showError)\n",
       "        .then(() => displayChart(vegaEmbed));\n",
       "    }\n",
       "  })({\"$schema\": \"https://vega.github.io/schema/vega/v5.json\", \"data\": [{\"name\": \"source_0\", \"values\": [{\"Count\": 2314, \"__count\": 1, \"bin_step_2_Count\": 2312.0, \"bin_step_2_Count_end\": 2314.0}, {\"Count\": 1850, \"__count\": 1, \"bin_step_2_Count\": 1850.0, \"bin_step_2_Count_end\": 1852.0}, {\"Count\": 1743, \"__count\": 1, \"bin_step_2_Count\": 1742.0, \"bin_step_2_Count_end\": 1744.0}, {\"Count\": 1595, \"__count\": 1, \"bin_step_2_Count\": 1594.0, \"bin_step_2_Count_end\": 1596.0}, {\"Count\": 1521, \"__count\": 1, \"bin_step_2_Count\": 1520.0, \"bin_step_2_Count_end\": 1522.0}, {\"Count\": 1518, \"__count\": 1, \"bin_step_2_Count\": 1518.0, \"bin_step_2_Count_end\": 1520.0}, {\"Count\": 1344, \"__count\": 1, \"bin_step_2_Count\": 1344.0, \"bin_step_2_Count_end\": 1346.0}, {\"Count\": 1323, \"__count\": 1, \"bin_step_2_Count\": 1322.0, \"bin_step_2_Count_end\": 1324.0}, {\"Count\": 1302, \"__count\": 1, \"bin_step_2_Count\": 1302.0, \"bin_step_2_Count_end\": 1304.0}, {\"Count\": 1286, \"__count\": 1, \"bin_step_2_Count\": 1286.0, \"bin_step_2_Count_end\": 1288.0}, {\"Count\": 1277, \"__count\": 1, \"bin_step_2_Count\": 1276.0, \"bin_step_2_Count_end\": 1278.0}, {\"Count\": 1271, \"__count\": 1, \"bin_step_2_Count\": 1270.0, \"bin_step_2_Count_end\": 1272.0}, {\"Count\": 1260, \"__count\": 1, \"bin_step_2_Count\": 1260.0, \"bin_step_2_Count_end\": 1262.0}, {\"Count\": 1258, \"__count\": 1, \"bin_step_2_Count\": 1258.0, \"bin_step_2_Count_end\": 1260.0}, {\"Count\": 1243, \"__count\": 1, \"bin_step_2_Count\": 1242.0, \"bin_step_2_Count_end\": 1244.0}, {\"Count\": 1240, \"__count\": 1, \"bin_step_2_Count\": 1240.0, \"bin_step_2_Count_end\": 1242.0}, {\"Count\": 1226, \"__count\": 1, \"bin_step_2_Count\": 1226.0, \"bin_step_2_Count_end\": 1228.0}, {\"Count\": 1222, \"__count\": 1, \"bin_step_2_Count\": 1222.0, \"bin_step_2_Count_end\": 1224.0}, {\"Count\": 1220, \"__count\": 1, \"bin_step_2_Count\": 1220.0, \"bin_step_2_Count_end\": 1222.0}, {\"Count\": 1216, \"__count\": 2, \"bin_step_2_Count\": 1216.0, \"bin_step_2_Count_end\": 1218.0}, {\"Count\": 1211, \"__count\": 1, \"bin_step_2_Count\": 1210.0, \"bin_step_2_Count_end\": 1212.0}, {\"Count\": 1176, \"__count\": 1, \"bin_step_2_Count\": 1176.0, \"bin_step_2_Count_end\": 1178.0}, {\"Count\": 1169, \"__count\": 1, \"bin_step_2_Count\": 1168.0, \"bin_step_2_Count_end\": 1170.0}, {\"Count\": 1158, \"__count\": 1, \"bin_step_2_Count\": 1158.0, \"bin_step_2_Count_end\": 1160.0}, {\"Count\": 1152, \"__count\": 1, \"bin_step_2_Count\": 1152.0, \"bin_step_2_Count_end\": 1154.0}, {\"Count\": 1144, \"__count\": 1, \"bin_step_2_Count\": 1144.0, \"bin_step_2_Count_end\": 1146.0}, {\"Count\": 1115, \"__count\": 1, \"bin_step_2_Count\": 1114.0, \"bin_step_2_Count_end\": 1116.0}, {\"Count\": 1078, \"__count\": 1, \"bin_step_2_Count\": 1078.0, \"bin_step_2_Count_end\": 1080.0}, {\"Count\": 1050, \"__count\": 1, \"bin_step_2_Count\": 1050.0, \"bin_step_2_Count_end\": 1052.0}, {\"Count\": 1047, \"__count\": 1, \"bin_step_2_Count\": 1046.0, \"bin_step_2_Count_end\": 1048.0}, {\"Count\": 1038, \"__count\": 1, \"bin_step_2_Count\": 1038.0, \"bin_step_2_Count_end\": 1040.0}, {\"Count\": 1024, \"__count\": 1, \"bin_step_2_Count\": 1024.0, \"bin_step_2_Count_end\": 1026.0}, {\"Count\": 1019, \"__count\": 1, \"bin_step_2_Count\": 1018.0, \"bin_step_2_Count_end\": 1020.0}, {\"Count\": 1018, \"__count\": 1, \"bin_step_2_Count\": 1018.0, \"bin_step_2_Count_end\": 1020.0}, {\"Count\": 1016, \"__count\": 1, \"bin_step_2_Count\": 1016.0, \"bin_step_2_Count_end\": 1018.0}, {\"Count\": 1014, \"__count\": 1, \"bin_step_2_Count\": 1014.0, \"bin_step_2_Count_end\": 1016.0}, {\"Count\": 1009, \"__count\": 1, \"bin_step_2_Count\": 1008.0, \"bin_step_2_Count_end\": 1010.0}, {\"Count\": 1006, \"__count\": 1, \"bin_step_2_Count\": 1006.0, \"bin_step_2_Count_end\": 1008.0}, {\"Count\": 1004, \"__count\": 1, \"bin_step_2_Count\": 1004.0, \"bin_step_2_Count_end\": 1006.0}, {\"Count\": 1000, \"__count\": 1, \"bin_step_2_Count\": 1000.0, \"bin_step_2_Count_end\": 1002.0}, {\"Count\": 999, \"__count\": 1, \"bin_step_2_Count\": 998.0, \"bin_step_2_Count_end\": 1000.0}, {\"Count\": 990, \"__count\": 1, \"bin_step_2_Count\": 990.0, \"bin_step_2_Count_end\": 992.0}, {\"Count\": 982, \"__count\": 1, \"bin_step_2_Count\": 982.0, \"bin_step_2_Count_end\": 984.0}, {\"Count\": 971, \"__count\": 1, \"bin_step_2_Count\": 970.0, \"bin_step_2_Count_end\": 972.0}, {\"Count\": 967, \"__count\": 1, \"bin_step_2_Count\": 966.0, \"bin_step_2_Count_end\": 968.0}, {\"Count\": 964, \"__count\": 1, \"bin_step_2_Count\": 964.0, \"bin_step_2_Count_end\": 966.0}, {\"Count\": 962, \"__count\": 1, \"bin_step_2_Count\": 962.0, \"bin_step_2_Count_end\": 964.0}, {\"Count\": 957, \"__count\": 1, \"bin_step_2_Count\": 956.0, \"bin_step_2_Count_end\": 958.0}, {\"Count\": 955, \"__count\": 1, \"bin_step_2_Count\": 954.0, \"bin_step_2_Count_end\": 956.0}, {\"Count\": 947, \"__count\": 1, \"bin_step_2_Count\": 946.0, \"bin_step_2_Count_end\": 948.0}, {\"Count\": 941, \"__count\": 1, \"bin_step_2_Count\": 940.0, \"bin_step_2_Count_end\": 942.0}, {\"Count\": 939, \"__count\": 2, \"bin_step_2_Count\": 938.0, \"bin_step_2_Count_end\": 940.0}, {\"Count\": 934, \"__count\": 1, \"bin_step_2_Count\": 934.0, \"bin_step_2_Count_end\": 936.0}, {\"Count\": 928, \"__count\": 1, \"bin_step_2_Count\": 928.0, \"bin_step_2_Count_end\": 930.0}, {\"Count\": 923, \"__count\": 1, \"bin_step_2_Count\": 922.0, \"bin_step_2_Count_end\": 924.0}, {\"Count\": 920, \"__count\": 1, \"bin_step_2_Count\": 920.0, \"bin_step_2_Count_end\": 922.0}, {\"Count\": 915, \"__count\": 1, \"bin_step_2_Count\": 914.0, \"bin_step_2_Count_end\": 916.0}, {\"Count\": 914, \"__count\": 1, \"bin_step_2_Count\": 914.0, \"bin_step_2_Count_end\": 916.0}, {\"Count\": 909, \"__count\": 1, \"bin_step_2_Count\": 908.0, \"bin_step_2_Count_end\": 910.0}, {\"Count\": 903, \"__count\": 1, \"bin_step_2_Count\": 902.0, \"bin_step_2_Count_end\": 904.0}, {\"Count\": 900, \"__count\": 1, \"bin_step_2_Count\": 900.0, \"bin_step_2_Count_end\": 902.0}, {\"Count\": 894, \"__count\": 1, \"bin_step_2_Count\": 894.0, \"bin_step_2_Count_end\": 896.0}, {\"Count\": 893, \"__count\": 2, \"bin_step_2_Count\": 892.0, \"bin_step_2_Count_end\": 894.0}, {\"Count\": 888, \"__count\": 1, \"bin_step_2_Count\": 888.0, \"bin_step_2_Count_end\": 890.0}, {\"Count\": 885, \"__count\": 1, \"bin_step_2_Count\": 884.0, \"bin_step_2_Count_end\": 886.0}, {\"Count\": 883, \"__count\": 1, \"bin_step_2_Count\": 882.0, \"bin_step_2_Count_end\": 884.0}, {\"Count\": 882, \"__count\": 2, \"bin_step_2_Count\": 882.0, \"bin_step_2_Count_end\": 884.0}, {\"Count\": 875, \"__count\": 1, \"bin_step_2_Count\": 874.0, \"bin_step_2_Count_end\": 876.0}, {\"Count\": 874, \"__count\": 1, \"bin_step_2_Count\": 874.0, \"bin_step_2_Count_end\": 876.0}, {\"Count\": 873, \"__count\": 2, \"bin_step_2_Count\": 872.0, \"bin_step_2_Count_end\": 874.0}, {\"Count\": 870, \"__count\": 1, \"bin_step_2_Count\": 870.0, \"bin_step_2_Count_end\": 872.0}, {\"Count\": 868, \"__count\": 1, \"bin_step_2_Count\": 868.0, \"bin_step_2_Count_end\": 870.0}, {\"Count\": 867, \"__count\": 1, \"bin_step_2_Count\": 866.0, \"bin_step_2_Count_end\": 868.0}, {\"Count\": 865, \"__count\": 1, \"bin_step_2_Count\": 864.0, \"bin_step_2_Count_end\": 866.0}, {\"Count\": 862, \"__count\": 1, \"bin_step_2_Count\": 862.0, \"bin_step_2_Count_end\": 864.0}, {\"Count\": 859, \"__count\": 1, \"bin_step_2_Count\": 858.0, \"bin_step_2_Count_end\": 860.0}, {\"Count\": 858, \"__count\": 1, \"bin_step_2_Count\": 858.0, \"bin_step_2_Count_end\": 860.0}, {\"Count\": 855, \"__count\": 1, \"bin_step_2_Count\": 854.0, \"bin_step_2_Count_end\": 856.0}, {\"Count\": 853, \"__count\": 1, \"bin_step_2_Count\": 852.0, \"bin_step_2_Count_end\": 854.0}, {\"Count\": 852, \"__count\": 1, \"bin_step_2_Count\": 852.0, \"bin_step_2_Count_end\": 854.0}, {\"Count\": 849, \"__count\": 3, \"bin_step_2_Count\": 848.0, \"bin_step_2_Count_end\": 850.0}, {\"Count\": 848, \"__count\": 1, \"bin_step_2_Count\": 848.0, \"bin_step_2_Count_end\": 850.0}, {\"Count\": 844, \"__count\": 1, \"bin_step_2_Count\": 844.0, \"bin_step_2_Count_end\": 846.0}, {\"Count\": 842, \"__count\": 1, \"bin_step_2_Count\": 842.0, \"bin_step_2_Count_end\": 844.0}, {\"Count\": 839, \"__count\": 2, \"bin_step_2_Count\": 838.0, \"bin_step_2_Count_end\": 840.0}, {\"Count\": 837, \"__count\": 2, \"bin_step_2_Count\": 836.0, \"bin_step_2_Count_end\": 838.0}, {\"Count\": 836, \"__count\": 1, \"bin_step_2_Count\": 836.0, \"bin_step_2_Count_end\": 838.0}, {\"Count\": 829, \"__count\": 1, \"bin_step_2_Count\": 828.0, \"bin_step_2_Count_end\": 830.0}, {\"Count\": 828, \"__count\": 1, \"bin_step_2_Count\": 828.0, \"bin_step_2_Count_end\": 830.0}, {\"Count\": 826, \"__count\": 1, \"bin_step_2_Count\": 826.0, \"bin_step_2_Count_end\": 828.0}, {\"Count\": 825, \"__count\": 3, \"bin_step_2_Count\": 824.0, \"bin_step_2_Count_end\": 826.0}, {\"Count\": 824, \"__count\": 1, \"bin_step_2_Count\": 824.0, \"bin_step_2_Count_end\": 826.0}, {\"Count\": 822, \"__count\": 3, \"bin_step_2_Count\": 822.0, \"bin_step_2_Count_end\": 824.0}, {\"Count\": 821, \"__count\": 1, \"bin_step_2_Count\": 820.0, \"bin_step_2_Count_end\": 822.0}, {\"Count\": 819, \"__count\": 1, \"bin_step_2_Count\": 818.0, \"bin_step_2_Count_end\": 820.0}, {\"Count\": 815, \"__count\": 1, \"bin_step_2_Count\": 814.0, \"bin_step_2_Count_end\": 816.0}, {\"Count\": 812, \"__count\": 1, \"bin_step_2_Count\": 812.0, \"bin_step_2_Count_end\": 814.0}, {\"Count\": 805, \"__count\": 1, \"bin_step_2_Count\": 804.0, \"bin_step_2_Count_end\": 806.0}, {\"Count\": 800, \"__count\": 1, \"bin_step_2_Count\": 800.0, \"bin_step_2_Count_end\": 802.0}, {\"Count\": 799, \"__count\": 1, \"bin_step_2_Count\": 798.0, \"bin_step_2_Count_end\": 800.0}, {\"Count\": 795, \"__count\": 2, \"bin_step_2_Count\": 794.0, \"bin_step_2_Count_end\": 796.0}, {\"Count\": 794, \"__count\": 1, \"bin_step_2_Count\": 794.0, \"bin_step_2_Count_end\": 796.0}, {\"Count\": 793, \"__count\": 1, \"bin_step_2_Count\": 792.0, \"bin_step_2_Count_end\": 794.0}, {\"Count\": 792, \"__count\": 1, \"bin_step_2_Count\": 792.0, \"bin_step_2_Count_end\": 794.0}, {\"Count\": 789, \"__count\": 1, \"bin_step_2_Count\": 788.0, \"bin_step_2_Count_end\": 790.0}, {\"Count\": 788, \"__count\": 1, \"bin_step_2_Count\": 788.0, \"bin_step_2_Count_end\": 790.0}, {\"Count\": 785, \"__count\": 1, \"bin_step_2_Count\": 784.0, \"bin_step_2_Count_end\": 786.0}, {\"Count\": 784, \"__count\": 1, \"bin_step_2_Count\": 784.0, \"bin_step_2_Count_end\": 786.0}, {\"Count\": 782, \"__count\": 2, \"bin_step_2_Count\": 782.0, \"bin_step_2_Count_end\": 784.0}, {\"Count\": 778, \"__count\": 1, \"bin_step_2_Count\": 778.0, \"bin_step_2_Count_end\": 780.0}, {\"Count\": 775, \"__count\": 1, \"bin_step_2_Count\": 774.0, \"bin_step_2_Count_end\": 776.0}, {\"Count\": 774, \"__count\": 1, \"bin_step_2_Count\": 774.0, \"bin_step_2_Count_end\": 776.0}, {\"Count\": 770, \"__count\": 1, \"bin_step_2_Count\": 770.0, \"bin_step_2_Count_end\": 772.0}, {\"Count\": 768, \"__count\": 1, \"bin_step_2_Count\": 768.0, \"bin_step_2_Count_end\": 770.0}, {\"Count\": 766, \"__count\": 1, \"bin_step_2_Count\": 766.0, \"bin_step_2_Count_end\": 768.0}, {\"Count\": 765, \"__count\": 2, \"bin_step_2_Count\": 764.0, \"bin_step_2_Count_end\": 766.0}, {\"Count\": 764, \"__count\": 2, \"bin_step_2_Count\": 764.0, \"bin_step_2_Count_end\": 766.0}, {\"Count\": 761, \"__count\": 2, \"bin_step_2_Count\": 760.0, \"bin_step_2_Count_end\": 762.0}, {\"Count\": 759, \"__count\": 1, \"bin_step_2_Count\": 758.0, \"bin_step_2_Count_end\": 760.0}, {\"Count\": 756, \"__count\": 1, \"bin_step_2_Count\": 756.0, \"bin_step_2_Count_end\": 758.0}, {\"Count\": 754, \"__count\": 1, \"bin_step_2_Count\": 754.0, \"bin_step_2_Count_end\": 756.0}, {\"Count\": 751, \"__count\": 1, \"bin_step_2_Count\": 750.0, \"bin_step_2_Count_end\": 752.0}, {\"Count\": 749, \"__count\": 1, \"bin_step_2_Count\": 748.0, \"bin_step_2_Count_end\": 750.0}, {\"Count\": 748, \"__count\": 1, \"bin_step_2_Count\": 748.0, \"bin_step_2_Count_end\": 750.0}, {\"Count\": 744, \"__count\": 1, \"bin_step_2_Count\": 744.0, \"bin_step_2_Count_end\": 746.0}, {\"Count\": 743, \"__count\": 1, \"bin_step_2_Count\": 742.0, \"bin_step_2_Count_end\": 744.0}, {\"Count\": 742, \"__count\": 1, \"bin_step_2_Count\": 742.0, \"bin_step_2_Count_end\": 744.0}, {\"Count\": 741, \"__count\": 1, \"bin_step_2_Count\": 740.0, \"bin_step_2_Count_end\": 742.0}, {\"Count\": 736, \"__count\": 1, \"bin_step_2_Count\": 736.0, \"bin_step_2_Count_end\": 738.0}, {\"Count\": 735, \"__count\": 2, \"bin_step_2_Count\": 734.0, \"bin_step_2_Count_end\": 736.0}, {\"Count\": 733, \"__count\": 1, \"bin_step_2_Count\": 732.0, \"bin_step_2_Count_end\": 734.0}, {\"Count\": 731, \"__count\": 2, \"bin_step_2_Count\": 730.0, \"bin_step_2_Count_end\": 732.0}, {\"Count\": 729, \"__count\": 4, \"bin_step_2_Count\": 728.0, \"bin_step_2_Count_end\": 730.0}, {\"Count\": 728, \"__count\": 1, \"bin_step_2_Count\": 728.0, \"bin_step_2_Count_end\": 730.0}, {\"Count\": 727, \"__count\": 1, \"bin_step_2_Count\": 726.0, \"bin_step_2_Count_end\": 728.0}, {\"Count\": 726, \"__count\": 1, \"bin_step_2_Count\": 726.0, \"bin_step_2_Count_end\": 728.0}, {\"Count\": 725, \"__count\": 1, \"bin_step_2_Count\": 724.0, \"bin_step_2_Count_end\": 726.0}, {\"Count\": 724, \"__count\": 1, \"bin_step_2_Count\": 724.0, \"bin_step_2_Count_end\": 726.0}, {\"Count\": 723, \"__count\": 1, \"bin_step_2_Count\": 722.0, \"bin_step_2_Count_end\": 724.0}, {\"Count\": 721, \"__count\": 1, \"bin_step_2_Count\": 720.0, \"bin_step_2_Count_end\": 722.0}, {\"Count\": 720, \"__count\": 3, \"bin_step_2_Count\": 720.0, \"bin_step_2_Count_end\": 722.0}, {\"Count\": 715, \"__count\": 1, \"bin_step_2_Count\": 714.0, \"bin_step_2_Count_end\": 716.0}, {\"Count\": 711, \"__count\": 1, \"bin_step_2_Count\": 710.0, \"bin_step_2_Count_end\": 712.0}, {\"Count\": 710, \"__count\": 2, \"bin_step_2_Count\": 710.0, \"bin_step_2_Count_end\": 712.0}, {\"Count\": 708, \"__count\": 1, \"bin_step_2_Count\": 708.0, \"bin_step_2_Count_end\": 710.0}, {\"Count\": 707, \"__count\": 1, \"bin_step_2_Count\": 706.0, \"bin_step_2_Count_end\": 708.0}, {\"Count\": 705, \"__count\": 1, \"bin_step_2_Count\": 704.0, \"bin_step_2_Count_end\": 706.0}, {\"Count\": 704, \"__count\": 1, \"bin_step_2_Count\": 704.0, \"bin_step_2_Count_end\": 706.0}, {\"Count\": 703, \"__count\": 2, \"bin_step_2_Count\": 702.0, \"bin_step_2_Count_end\": 704.0}, {\"Count\": 702, \"__count\": 1, \"bin_step_2_Count\": 702.0, \"bin_step_2_Count_end\": 704.0}, {\"Count\": 698, \"__count\": 2, \"bin_step_2_Count\": 698.0, \"bin_step_2_Count_end\": 700.0}, {\"Count\": 696, \"__count\": 1, \"bin_step_2_Count\": 696.0, \"bin_step_2_Count_end\": 698.0}, {\"Count\": 695, \"__count\": 1, \"bin_step_2_Count\": 694.0, \"bin_step_2_Count_end\": 696.0}, {\"Count\": 694, \"__count\": 1, \"bin_step_2_Count\": 694.0, \"bin_step_2_Count_end\": 696.0}, {\"Count\": 689, \"__count\": 1, \"bin_step_2_Count\": 688.0, \"bin_step_2_Count_end\": 690.0}, {\"Count\": 688, \"__count\": 1, \"bin_step_2_Count\": 688.0, \"bin_step_2_Count_end\": 690.0}, {\"Count\": 686, \"__count\": 1, \"bin_step_2_Count\": 686.0, \"bin_step_2_Count_end\": 688.0}, {\"Count\": 685, \"__count\": 1, \"bin_step_2_Count\": 684.0, \"bin_step_2_Count_end\": 686.0}, {\"Count\": 684, \"__count\": 3, \"bin_step_2_Count\": 684.0, \"bin_step_2_Count_end\": 686.0}, {\"Count\": 683, \"__count\": 1, \"bin_step_2_Count\": 682.0, \"bin_step_2_Count_end\": 684.0}, {\"Count\": 680, \"__count\": 1, \"bin_step_2_Count\": 680.0, \"bin_step_2_Count_end\": 682.0}, {\"Count\": 679, \"__count\": 1, \"bin_step_2_Count\": 678.0, \"bin_step_2_Count_end\": 680.0}, {\"Count\": 678, \"__count\": 1, \"bin_step_2_Count\": 678.0, \"bin_step_2_Count_end\": 680.0}, {\"Count\": 677, \"__count\": 2, \"bin_step_2_Count\": 676.0, \"bin_step_2_Count_end\": 678.0}, {\"Count\": 674, \"__count\": 1, \"bin_step_2_Count\": 674.0, \"bin_step_2_Count_end\": 676.0}, {\"Count\": 671, \"__count\": 1, \"bin_step_2_Count\": 670.0, \"bin_step_2_Count_end\": 672.0}, {\"Count\": 670, \"__count\": 1, \"bin_step_2_Count\": 670.0, \"bin_step_2_Count_end\": 672.0}, {\"Count\": 669, \"__count\": 1, \"bin_step_2_Count\": 668.0, \"bin_step_2_Count_end\": 670.0}, {\"Count\": 668, \"__count\": 1, \"bin_step_2_Count\": 668.0, \"bin_step_2_Count_end\": 670.0}, {\"Count\": 667, \"__count\": 1, \"bin_step_2_Count\": 666.0, \"bin_step_2_Count_end\": 668.0}, {\"Count\": 666, \"__count\": 2, \"bin_step_2_Count\": 666.0, \"bin_step_2_Count_end\": 668.0}, {\"Count\": 665, \"__count\": 1, \"bin_step_2_Count\": 664.0, \"bin_step_2_Count_end\": 666.0}, {\"Count\": 662, \"__count\": 1, \"bin_step_2_Count\": 662.0, \"bin_step_2_Count_end\": 664.0}, {\"Count\": 661, \"__count\": 1, \"bin_step_2_Count\": 660.0, \"bin_step_2_Count_end\": 662.0}, {\"Count\": 660, \"__count\": 1, \"bin_step_2_Count\": 660.0, \"bin_step_2_Count_end\": 662.0}, {\"Count\": 657, \"__count\": 1, \"bin_step_2_Count\": 656.0, \"bin_step_2_Count_end\": 658.0}, {\"Count\": 652, \"__count\": 1, \"bin_step_2_Count\": 652.0, \"bin_step_2_Count_end\": 654.0}, {\"Count\": 651, \"__count\": 1, \"bin_step_2_Count\": 650.0, \"bin_step_2_Count_end\": 652.0}, {\"Count\": 649, \"__count\": 2, \"bin_step_2_Count\": 648.0, \"bin_step_2_Count_end\": 650.0}, {\"Count\": 645, \"__count\": 1, \"bin_step_2_Count\": 644.0, \"bin_step_2_Count_end\": 646.0}, {\"Count\": 644, \"__count\": 1, \"bin_step_2_Count\": 644.0, \"bin_step_2_Count_end\": 646.0}, {\"Count\": 642, \"__count\": 1, \"bin_step_2_Count\": 642.0, \"bin_step_2_Count_end\": 644.0}, {\"Count\": 640, \"__count\": 2, \"bin_step_2_Count\": 640.0, \"bin_step_2_Count_end\": 642.0}, {\"Count\": 638, \"__count\": 1, \"bin_step_2_Count\": 638.0, \"bin_step_2_Count_end\": 640.0}, {\"Count\": 635, \"__count\": 2, \"bin_step_2_Count\": 634.0, \"bin_step_2_Count_end\": 636.0}, {\"Count\": 634, \"__count\": 1, \"bin_step_2_Count\": 634.0, \"bin_step_2_Count_end\": 636.0}, {\"Count\": 633, \"__count\": 3, \"bin_step_2_Count\": 632.0, \"bin_step_2_Count_end\": 634.0}, {\"Count\": 631, \"__count\": 1, \"bin_step_2_Count\": 630.0, \"bin_step_2_Count_end\": 632.0}, {\"Count\": 630, \"__count\": 2, \"bin_step_2_Count\": 630.0, \"bin_step_2_Count_end\": 632.0}, {\"Count\": 629, \"__count\": 2, \"bin_step_2_Count\": 628.0, \"bin_step_2_Count_end\": 630.0}, {\"Count\": 628, \"__count\": 1, \"bin_step_2_Count\": 628.0, \"bin_step_2_Count_end\": 630.0}, {\"Count\": 627, \"__count\": 2, \"bin_step_2_Count\": 626.0, \"bin_step_2_Count_end\": 628.0}, {\"Count\": 626, \"__count\": 1, \"bin_step_2_Count\": 626.0, \"bin_step_2_Count_end\": 628.0}, {\"Count\": 625, \"__count\": 1, \"bin_step_2_Count\": 624.0, \"bin_step_2_Count_end\": 626.0}, {\"Count\": 624, \"__count\": 2, \"bin_step_2_Count\": 624.0, \"bin_step_2_Count_end\": 626.0}, {\"Count\": 622, \"__count\": 3, \"bin_step_2_Count\": 622.0, \"bin_step_2_Count_end\": 624.0}, {\"Count\": 618, \"__count\": 1, \"bin_step_2_Count\": 618.0, \"bin_step_2_Count_end\": 620.0}, {\"Count\": 617, \"__count\": 1, \"bin_step_2_Count\": 616.0, \"bin_step_2_Count_end\": 618.0}, {\"Count\": 616, \"__count\": 3, \"bin_step_2_Count\": 616.0, \"bin_step_2_Count_end\": 618.0}, {\"Count\": 614, \"__count\": 1, \"bin_step_2_Count\": 614.0, \"bin_step_2_Count_end\": 616.0}, {\"Count\": 613, \"__count\": 1, \"bin_step_2_Count\": 612.0, \"bin_step_2_Count_end\": 614.0}, {\"Count\": 612, \"__count\": 1, \"bin_step_2_Count\": 612.0, \"bin_step_2_Count_end\": 614.0}, {\"Count\": 611, \"__count\": 2, \"bin_step_2_Count\": 610.0, \"bin_step_2_Count_end\": 612.0}, {\"Count\": 610, \"__count\": 2, \"bin_step_2_Count\": 610.0, \"bin_step_2_Count_end\": 612.0}, {\"Count\": 609, \"__count\": 1, \"bin_step_2_Count\": 608.0, \"bin_step_2_Count_end\": 610.0}, {\"Count\": 608, \"__count\": 2, \"bin_step_2_Count\": 608.0, \"bin_step_2_Count_end\": 610.0}, {\"Count\": 606, \"__count\": 2, \"bin_step_2_Count\": 606.0, \"bin_step_2_Count_end\": 608.0}, {\"Count\": 602, \"__count\": 1, \"bin_step_2_Count\": 602.0, \"bin_step_2_Count_end\": 604.0}, {\"Count\": 601, \"__count\": 2, \"bin_step_2_Count\": 600.0, \"bin_step_2_Count_end\": 602.0}, {\"Count\": 598, \"__count\": 1, \"bin_step_2_Count\": 598.0, \"bin_step_2_Count_end\": 600.0}, {\"Count\": 597, \"__count\": 2, \"bin_step_2_Count\": 596.0, \"bin_step_2_Count_end\": 598.0}, {\"Count\": 596, \"__count\": 1, \"bin_step_2_Count\": 596.0, \"bin_step_2_Count_end\": 598.0}, {\"Count\": 592, \"__count\": 3, \"bin_step_2_Count\": 592.0, \"bin_step_2_Count_end\": 594.0}, {\"Count\": 591, \"__count\": 3, \"bin_step_2_Count\": 590.0, \"bin_step_2_Count_end\": 592.0}, {\"Count\": 590, \"__count\": 1, \"bin_step_2_Count\": 590.0, \"bin_step_2_Count_end\": 592.0}, {\"Count\": 589, \"__count\": 2, \"bin_step_2_Count\": 588.0, \"bin_step_2_Count_end\": 590.0}, {\"Count\": 587, \"__count\": 1, \"bin_step_2_Count\": 586.0, \"bin_step_2_Count_end\": 588.0}, {\"Count\": 586, \"__count\": 1, \"bin_step_2_Count\": 586.0, \"bin_step_2_Count_end\": 588.0}, {\"Count\": 585, \"__count\": 1, \"bin_step_2_Count\": 584.0, \"bin_step_2_Count_end\": 586.0}, {\"Count\": 584, \"__count\": 1, \"bin_step_2_Count\": 584.0, \"bin_step_2_Count_end\": 586.0}, {\"Count\": 583, \"__count\": 1, \"bin_step_2_Count\": 582.0, \"bin_step_2_Count_end\": 584.0}, {\"Count\": 582, \"__count\": 1, \"bin_step_2_Count\": 582.0, \"bin_step_2_Count_end\": 584.0}, {\"Count\": 580, \"__count\": 2, \"bin_step_2_Count\": 580.0, \"bin_step_2_Count_end\": 582.0}, {\"Count\": 578, \"__count\": 1, \"bin_step_2_Count\": 578.0, \"bin_step_2_Count_end\": 580.0}, {\"Count\": 576, \"__count\": 1, \"bin_step_2_Count\": 576.0, \"bin_step_2_Count_end\": 578.0}, {\"Count\": 573, \"__count\": 1, \"bin_step_2_Count\": 572.0, \"bin_step_2_Count_end\": 574.0}, {\"Count\": 572, \"__count\": 2, \"bin_step_2_Count\": 572.0, \"bin_step_2_Count_end\": 574.0}, {\"Count\": 570, \"__count\": 1, \"bin_step_2_Count\": 570.0, \"bin_step_2_Count_end\": 572.0}, {\"Count\": 565, \"__count\": 1, \"bin_step_2_Count\": 564.0, \"bin_step_2_Count_end\": 566.0}, {\"Count\": 564, \"__count\": 3, \"bin_step_2_Count\": 564.0, \"bin_step_2_Count_end\": 566.0}, {\"Count\": 562, \"__count\": 2, \"bin_step_2_Count\": 562.0, \"bin_step_2_Count_end\": 564.0}, {\"Count\": 561, \"__count\": 2, \"bin_step_2_Count\": 560.0, \"bin_step_2_Count_end\": 562.0}, {\"Count\": 560, \"__count\": 1, \"bin_step_2_Count\": 560.0, \"bin_step_2_Count_end\": 562.0}, {\"Count\": 559, \"__count\": 3, \"bin_step_2_Count\": 558.0, \"bin_step_2_Count_end\": 560.0}, {\"Count\": 557, \"__count\": 2, \"bin_step_2_Count\": 556.0, \"bin_step_2_Count_end\": 558.0}, {\"Count\": 556, \"__count\": 3, \"bin_step_2_Count\": 556.0, \"bin_step_2_Count_end\": 558.0}, {\"Count\": 554, \"__count\": 3, \"bin_step_2_Count\": 554.0, \"bin_step_2_Count_end\": 556.0}, {\"Count\": 552, \"__count\": 2, \"bin_step_2_Count\": 552.0, \"bin_step_2_Count_end\": 554.0}, {\"Count\": 551, \"__count\": 2, \"bin_step_2_Count\": 550.0, \"bin_step_2_Count_end\": 552.0}, {\"Count\": 550, \"__count\": 2, \"bin_step_2_Count\": 550.0, \"bin_step_2_Count_end\": 552.0}, {\"Count\": 549, \"__count\": 2, \"bin_step_2_Count\": 548.0, \"bin_step_2_Count_end\": 550.0}, {\"Count\": 548, \"__count\": 1, \"bin_step_2_Count\": 548.0, \"bin_step_2_Count_end\": 550.0}, {\"Count\": 547, \"__count\": 1, \"bin_step_2_Count\": 546.0, \"bin_step_2_Count_end\": 548.0}, {\"Count\": 546, \"__count\": 4, \"bin_step_2_Count\": 546.0, \"bin_step_2_Count_end\": 548.0}, {\"Count\": 544, \"__count\": 2, \"bin_step_2_Count\": 544.0, \"bin_step_2_Count_end\": 546.0}, {\"Count\": 543, \"__count\": 3, \"bin_step_2_Count\": 542.0, \"bin_step_2_Count_end\": 544.0}, {\"Count\": 542, \"__count\": 1, \"bin_step_2_Count\": 542.0, \"bin_step_2_Count_end\": 544.0}, {\"Count\": 541, \"__count\": 1, \"bin_step_2_Count\": 540.0, \"bin_step_2_Count_end\": 542.0}, {\"Count\": 539, \"__count\": 2, \"bin_step_2_Count\": 538.0, \"bin_step_2_Count_end\": 540.0}, {\"Count\": 537, \"__count\": 1, \"bin_step_2_Count\": 536.0, \"bin_step_2_Count_end\": 538.0}, {\"Count\": 536, \"__count\": 1, \"bin_step_2_Count\": 536.0, \"bin_step_2_Count_end\": 538.0}, {\"Count\": 535, \"__count\": 1, \"bin_step_2_Count\": 534.0, \"bin_step_2_Count_end\": 536.0}, {\"Count\": 534, \"__count\": 2, \"bin_step_2_Count\": 534.0, \"bin_step_2_Count_end\": 536.0}, {\"Count\": 533, \"__count\": 1, \"bin_step_2_Count\": 532.0, \"bin_step_2_Count_end\": 534.0}, {\"Count\": 531, \"__count\": 1, \"bin_step_2_Count\": 530.0, \"bin_step_2_Count_end\": 532.0}, {\"Count\": 530, \"__count\": 3, \"bin_step_2_Count\": 530.0, \"bin_step_2_Count_end\": 532.0}, {\"Count\": 529, \"__count\": 1, \"bin_step_2_Count\": 528.0, \"bin_step_2_Count_end\": 530.0}, {\"Count\": 528, \"__count\": 3, \"bin_step_2_Count\": 528.0, \"bin_step_2_Count_end\": 530.0}, {\"Count\": 527, \"__count\": 1, \"bin_step_2_Count\": 526.0, \"bin_step_2_Count_end\": 528.0}, {\"Count\": 526, \"__count\": 3, \"bin_step_2_Count\": 526.0, \"bin_step_2_Count_end\": 528.0}, {\"Count\": 525, \"__count\": 3, \"bin_step_2_Count\": 524.0, \"bin_step_2_Count_end\": 526.0}, {\"Count\": 522, \"__count\": 1, \"bin_step_2_Count\": 522.0, \"bin_step_2_Count_end\": 524.0}, {\"Count\": 521, \"__count\": 3, \"bin_step_2_Count\": 520.0, \"bin_step_2_Count_end\": 522.0}, {\"Count\": 520, \"__count\": 2, \"bin_step_2_Count\": 520.0, \"bin_step_2_Count_end\": 522.0}, {\"Count\": 518, \"__count\": 2, \"bin_step_2_Count\": 518.0, \"bin_step_2_Count_end\": 520.0}, {\"Count\": 517, \"__count\": 4, \"bin_step_2_Count\": 516.0, \"bin_step_2_Count_end\": 518.0}, {\"Count\": 516, \"__count\": 1, \"bin_step_2_Count\": 516.0, \"bin_step_2_Count_end\": 518.0}, {\"Count\": 515, \"__count\": 1, \"bin_step_2_Count\": 514.0, \"bin_step_2_Count_end\": 516.0}, {\"Count\": 514, \"__count\": 2, \"bin_step_2_Count\": 514.0, \"bin_step_2_Count_end\": 516.0}, {\"Count\": 513, \"__count\": 3, \"bin_step_2_Count\": 512.0, \"bin_step_2_Count_end\": 514.0}, {\"Count\": 512, \"__count\": 2, \"bin_step_2_Count\": 512.0, \"bin_step_2_Count_end\": 514.0}, {\"Count\": 511, \"__count\": 2, \"bin_step_2_Count\": 510.0, \"bin_step_2_Count_end\": 512.0}, {\"Count\": 510, \"__count\": 2, \"bin_step_2_Count\": 510.0, \"bin_step_2_Count_end\": 512.0}, {\"Count\": 509, \"__count\": 3, \"bin_step_2_Count\": 508.0, \"bin_step_2_Count_end\": 510.0}, {\"Count\": 508, \"__count\": 4, \"bin_step_2_Count\": 508.0, \"bin_step_2_Count_end\": 510.0}, {\"Count\": 507, \"__count\": 2, \"bin_step_2_Count\": 506.0, \"bin_step_2_Count_end\": 508.0}, {\"Count\": 506, \"__count\": 3, \"bin_step_2_Count\": 506.0, \"bin_step_2_Count_end\": 508.0}, {\"Count\": 505, \"__count\": 2, \"bin_step_2_Count\": 504.0, \"bin_step_2_Count_end\": 506.0}, {\"Count\": 504, \"__count\": 2, \"bin_step_2_Count\": 504.0, \"bin_step_2_Count_end\": 506.0}, {\"Count\": 503, \"__count\": 2, \"bin_step_2_Count\": 502.0, \"bin_step_2_Count_end\": 504.0}, {\"Count\": 502, \"__count\": 2, \"bin_step_2_Count\": 502.0, \"bin_step_2_Count_end\": 504.0}, {\"Count\": 501, \"__count\": 1, \"bin_step_2_Count\": 500.0, \"bin_step_2_Count_end\": 502.0}, {\"Count\": 500, \"__count\": 3, \"bin_step_2_Count\": 500.0, \"bin_step_2_Count_end\": 502.0}, {\"Count\": 499, \"__count\": 2, \"bin_step_2_Count\": 498.0, \"bin_step_2_Count_end\": 500.0}, {\"Count\": 498, \"__count\": 3, \"bin_step_2_Count\": 498.0, \"bin_step_2_Count_end\": 500.0}, {\"Count\": 494, \"__count\": 1, \"bin_step_2_Count\": 494.0, \"bin_step_2_Count_end\": 496.0}, {\"Count\": 493, \"__count\": 1, \"bin_step_2_Count\": 492.0, \"bin_step_2_Count_end\": 494.0}, {\"Count\": 492, \"__count\": 2, \"bin_step_2_Count\": 492.0, \"bin_step_2_Count_end\": 494.0}, {\"Count\": 491, \"__count\": 2, \"bin_step_2_Count\": 490.0, \"bin_step_2_Count_end\": 492.0}, {\"Count\": 490, \"__count\": 3, \"bin_step_2_Count\": 490.0, \"bin_step_2_Count_end\": 492.0}, {\"Count\": 489, \"__count\": 2, \"bin_step_2_Count\": 488.0, \"bin_step_2_Count_end\": 490.0}, {\"Count\": 488, \"__count\": 2, \"bin_step_2_Count\": 488.0, \"bin_step_2_Count_end\": 490.0}, {\"Count\": 487, \"__count\": 2, \"bin_step_2_Count\": 486.0, \"bin_step_2_Count_end\": 488.0}, {\"Count\": 485, \"__count\": 2, \"bin_step_2_Count\": 484.0, \"bin_step_2_Count_end\": 486.0}, {\"Count\": 484, \"__count\": 4, \"bin_step_2_Count\": 484.0, \"bin_step_2_Count_end\": 486.0}, {\"Count\": 483, \"__count\": 2, \"bin_step_2_Count\": 482.0, \"bin_step_2_Count_end\": 484.0}, {\"Count\": 482, \"__count\": 1, \"bin_step_2_Count\": 482.0, \"bin_step_2_Count_end\": 484.0}, {\"Count\": 481, \"__count\": 1, \"bin_step_2_Count\": 480.0, \"bin_step_2_Count_end\": 482.0}, {\"Count\": 480, \"__count\": 4, \"bin_step_2_Count\": 480.0, \"bin_step_2_Count_end\": 482.0}, {\"Count\": 479, \"__count\": 1, \"bin_step_2_Count\": 478.0, \"bin_step_2_Count_end\": 480.0}, {\"Count\": 478, \"__count\": 2, \"bin_step_2_Count\": 478.0, \"bin_step_2_Count_end\": 480.0}, {\"Count\": 477, \"__count\": 3, \"bin_step_2_Count\": 476.0, \"bin_step_2_Count_end\": 478.0}, {\"Count\": 476, \"__count\": 1, \"bin_step_2_Count\": 476.0, \"bin_step_2_Count_end\": 478.0}, {\"Count\": 474, \"__count\": 1, \"bin_step_2_Count\": 474.0, \"bin_step_2_Count_end\": 476.0}, {\"Count\": 473, \"__count\": 1, \"bin_step_2_Count\": 472.0, \"bin_step_2_Count_end\": 474.0}, {\"Count\": 472, \"__count\": 1, \"bin_step_2_Count\": 472.0, \"bin_step_2_Count_end\": 474.0}, {\"Count\": 471, \"__count\": 4, \"bin_step_2_Count\": 470.0, \"bin_step_2_Count_end\": 472.0}, {\"Count\": 470, \"__count\": 3, \"bin_step_2_Count\": 470.0, \"bin_step_2_Count_end\": 472.0}, {\"Count\": 469, \"__count\": 1, \"bin_step_2_Count\": 468.0, \"bin_step_2_Count_end\": 470.0}, {\"Count\": 467, \"__count\": 3, \"bin_step_2_Count\": 466.0, \"bin_step_2_Count_end\": 468.0}, {\"Count\": 466, \"__count\": 1, \"bin_step_2_Count\": 466.0, \"bin_step_2_Count_end\": 468.0}, {\"Count\": 465, \"__count\": 3, \"bin_step_2_Count\": 464.0, \"bin_step_2_Count_end\": 466.0}, {\"Count\": 462, \"__count\": 1, \"bin_step_2_Count\": 462.0, \"bin_step_2_Count_end\": 464.0}, {\"Count\": 461, \"__count\": 4, \"bin_step_2_Count\": 460.0, \"bin_step_2_Count_end\": 462.0}, {\"Count\": 460, \"__count\": 4, \"bin_step_2_Count\": 460.0, \"bin_step_2_Count_end\": 462.0}, {\"Count\": 459, \"__count\": 4, \"bin_step_2_Count\": 458.0, \"bin_step_2_Count_end\": 460.0}, {\"Count\": 458, \"__count\": 1, \"bin_step_2_Count\": 458.0, \"bin_step_2_Count_end\": 460.0}, {\"Count\": 457, \"__count\": 1, \"bin_step_2_Count\": 456.0, \"bin_step_2_Count_end\": 458.0}, {\"Count\": 456, \"__count\": 2, \"bin_step_2_Count\": 456.0, \"bin_step_2_Count_end\": 458.0}, {\"Count\": 454, \"__count\": 1, \"bin_step_2_Count\": 454.0, \"bin_step_2_Count_end\": 456.0}, {\"Count\": 453, \"__count\": 3, \"bin_step_2_Count\": 452.0, \"bin_step_2_Count_end\": 454.0}, {\"Count\": 451, \"__count\": 3, \"bin_step_2_Count\": 450.0, \"bin_step_2_Count_end\": 452.0}, {\"Count\": 449, \"__count\": 2, \"bin_step_2_Count\": 448.0, \"bin_step_2_Count_end\": 450.0}, {\"Count\": 447, \"__count\": 1, \"bin_step_2_Count\": 446.0, \"bin_step_2_Count_end\": 448.0}, {\"Count\": 446, \"__count\": 5, \"bin_step_2_Count\": 446.0, \"bin_step_2_Count_end\": 448.0}, {\"Count\": 445, \"__count\": 1, \"bin_step_2_Count\": 444.0, \"bin_step_2_Count_end\": 446.0}, {\"Count\": 444, \"__count\": 1, \"bin_step_2_Count\": 444.0, \"bin_step_2_Count_end\": 446.0}, {\"Count\": 443, \"__count\": 3, \"bin_step_2_Count\": 442.0, \"bin_step_2_Count_end\": 444.0}, {\"Count\": 442, \"__count\": 3, \"bin_step_2_Count\": 442.0, \"bin_step_2_Count_end\": 444.0}, {\"Count\": 441, \"__count\": 1, \"bin_step_2_Count\": 440.0, \"bin_step_2_Count_end\": 442.0}, {\"Count\": 440, \"__count\": 3, \"bin_step_2_Count\": 440.0, \"bin_step_2_Count_end\": 442.0}, {\"Count\": 439, \"__count\": 1, \"bin_step_2_Count\": 438.0, \"bin_step_2_Count_end\": 440.0}, {\"Count\": 437, \"__count\": 4, \"bin_step_2_Count\": 436.0, \"bin_step_2_Count_end\": 438.0}, {\"Count\": 436, \"__count\": 2, \"bin_step_2_Count\": 436.0, \"bin_step_2_Count_end\": 438.0}, {\"Count\": 435, \"__count\": 2, \"bin_step_2_Count\": 434.0, \"bin_step_2_Count_end\": 436.0}, {\"Count\": 434, \"__count\": 2, \"bin_step_2_Count\": 434.0, \"bin_step_2_Count_end\": 436.0}, {\"Count\": 433, \"__count\": 1, \"bin_step_2_Count\": 432.0, \"bin_step_2_Count_end\": 434.0}, {\"Count\": 431, \"__count\": 2, \"bin_step_2_Count\": 430.0, \"bin_step_2_Count_end\": 432.0}, {\"Count\": 430, \"__count\": 3, \"bin_step_2_Count\": 430.0, \"bin_step_2_Count_end\": 432.0}, {\"Count\": 429, \"__count\": 5, \"bin_step_2_Count\": 428.0, \"bin_step_2_Count_end\": 430.0}, {\"Count\": 427, \"__count\": 3, \"bin_step_2_Count\": 426.0, \"bin_step_2_Count_end\": 428.0}, {\"Count\": 426, \"__count\": 1, \"bin_step_2_Count\": 426.0, \"bin_step_2_Count_end\": 428.0}, {\"Count\": 425, \"__count\": 1, \"bin_step_2_Count\": 424.0, \"bin_step_2_Count_end\": 426.0}, {\"Count\": 424, \"__count\": 5, \"bin_step_2_Count\": 424.0, \"bin_step_2_Count_end\": 426.0}, {\"Count\": 423, \"__count\": 3, \"bin_step_2_Count\": 422.0, \"bin_step_2_Count_end\": 424.0}, {\"Count\": 422, \"__count\": 3, \"bin_step_2_Count\": 422.0, \"bin_step_2_Count_end\": 424.0}, {\"Count\": 421, \"__count\": 1, \"bin_step_2_Count\": 420.0, \"bin_step_2_Count_end\": 422.0}, {\"Count\": 420, \"__count\": 4, \"bin_step_2_Count\": 420.0, \"bin_step_2_Count_end\": 422.0}, {\"Count\": 419, \"__count\": 2, \"bin_step_2_Count\": 418.0, \"bin_step_2_Count_end\": 420.0}, {\"Count\": 417, \"__count\": 1, \"bin_step_2_Count\": 416.0, \"bin_step_2_Count_end\": 418.0}, {\"Count\": 416, \"__count\": 2, \"bin_step_2_Count\": 416.0, \"bin_step_2_Count_end\": 418.0}, {\"Count\": 415, \"__count\": 1, \"bin_step_2_Count\": 414.0, \"bin_step_2_Count_end\": 416.0}, {\"Count\": 414, \"__count\": 2, \"bin_step_2_Count\": 414.0, \"bin_step_2_Count_end\": 416.0}, {\"Count\": 413, \"__count\": 4, \"bin_step_2_Count\": 412.0, \"bin_step_2_Count_end\": 414.0}, {\"Count\": 412, \"__count\": 2, \"bin_step_2_Count\": 412.0, \"bin_step_2_Count_end\": 414.0}, {\"Count\": 411, \"__count\": 2, \"bin_step_2_Count\": 410.0, \"bin_step_2_Count_end\": 412.0}, {\"Count\": 410, \"__count\": 5, \"bin_step_2_Count\": 410.0, \"bin_step_2_Count_end\": 412.0}, {\"Count\": 409, \"__count\": 5, \"bin_step_2_Count\": 408.0, \"bin_step_2_Count_end\": 410.0}, {\"Count\": 408, \"__count\": 2, \"bin_step_2_Count\": 408.0, \"bin_step_2_Count_end\": 410.0}, {\"Count\": 407, \"__count\": 3, \"bin_step_2_Count\": 406.0, \"bin_step_2_Count_end\": 408.0}, {\"Count\": 406, \"__count\": 4, \"bin_step_2_Count\": 406.0, \"bin_step_2_Count_end\": 408.0}, {\"Count\": 405, \"__count\": 1, \"bin_step_2_Count\": 404.0, \"bin_step_2_Count_end\": 406.0}, {\"Count\": 404, \"__count\": 7, \"bin_step_2_Count\": 404.0, \"bin_step_2_Count_end\": 406.0}, {\"Count\": 403, \"__count\": 6, \"bin_step_2_Count\": 402.0, \"bin_step_2_Count_end\": 404.0}, {\"Count\": 402, \"__count\": 2, \"bin_step_2_Count\": 402.0, \"bin_step_2_Count_end\": 404.0}, {\"Count\": 401, \"__count\": 5, \"bin_step_2_Count\": 400.0, \"bin_step_2_Count_end\": 402.0}, {\"Count\": 400, \"__count\": 4, \"bin_step_2_Count\": 400.0, \"bin_step_2_Count_end\": 402.0}, {\"Count\": 399, \"__count\": 5, \"bin_step_2_Count\": 398.0, \"bin_step_2_Count_end\": 400.0}, {\"Count\": 398, \"__count\": 4, \"bin_step_2_Count\": 398.0, \"bin_step_2_Count_end\": 400.0}, {\"Count\": 397, \"__count\": 3, \"bin_step_2_Count\": 396.0, \"bin_step_2_Count_end\": 398.0}, {\"Count\": 396, \"__count\": 1, \"bin_step_2_Count\": 396.0, \"bin_step_2_Count_end\": 398.0}, {\"Count\": 395, \"__count\": 4, \"bin_step_2_Count\": 394.0, \"bin_step_2_Count_end\": 396.0}, {\"Count\": 394, \"__count\": 5, \"bin_step_2_Count\": 394.0, \"bin_step_2_Count_end\": 396.0}, {\"Count\": 393, \"__count\": 3, \"bin_step_2_Count\": 392.0, \"bin_step_2_Count_end\": 394.0}, {\"Count\": 392, \"__count\": 6, \"bin_step_2_Count\": 392.0, \"bin_step_2_Count_end\": 394.0}, {\"Count\": 391, \"__count\": 2, \"bin_step_2_Count\": 390.0, \"bin_step_2_Count_end\": 392.0}, {\"Count\": 390, \"__count\": 2, \"bin_step_2_Count\": 390.0, \"bin_step_2_Count_end\": 392.0}, {\"Count\": 389, \"__count\": 1, \"bin_step_2_Count\": 388.0, \"bin_step_2_Count_end\": 390.0}, {\"Count\": 388, \"__count\": 5, \"bin_step_2_Count\": 388.0, \"bin_step_2_Count_end\": 390.0}, {\"Count\": 387, \"__count\": 2, \"bin_step_2_Count\": 386.0, \"bin_step_2_Count_end\": 388.0}, {\"Count\": 386, \"__count\": 1, \"bin_step_2_Count\": 386.0, \"bin_step_2_Count_end\": 388.0}, {\"Count\": 385, \"__count\": 4, \"bin_step_2_Count\": 384.0, \"bin_step_2_Count_end\": 386.0}, {\"Count\": 384, \"__count\": 7, \"bin_step_2_Count\": 384.0, \"bin_step_2_Count_end\": 386.0}, {\"Count\": 383, \"__count\": 1, \"bin_step_2_Count\": 382.0, \"bin_step_2_Count_end\": 384.0}, {\"Count\": 382, \"__count\": 3, \"bin_step_2_Count\": 382.0, \"bin_step_2_Count_end\": 384.0}, {\"Count\": 380, \"__count\": 1, \"bin_step_2_Count\": 380.0, \"bin_step_2_Count_end\": 382.0}, {\"Count\": 379, \"__count\": 3, \"bin_step_2_Count\": 378.0, \"bin_step_2_Count_end\": 380.0}, {\"Count\": 378, \"__count\": 6, \"bin_step_2_Count\": 378.0, \"bin_step_2_Count_end\": 380.0}, {\"Count\": 377, \"__count\": 4, \"bin_step_2_Count\": 376.0, \"bin_step_2_Count_end\": 378.0}, {\"Count\": 376, \"__count\": 2, \"bin_step_2_Count\": 376.0, \"bin_step_2_Count_end\": 378.0}, {\"Count\": 375, \"__count\": 2, \"bin_step_2_Count\": 374.0, \"bin_step_2_Count_end\": 376.0}, {\"Count\": 374, \"__count\": 2, \"bin_step_2_Count\": 374.0, \"bin_step_2_Count_end\": 376.0}, {\"Count\": 373, \"__count\": 3, \"bin_step_2_Count\": 372.0, \"bin_step_2_Count_end\": 374.0}, {\"Count\": 372, \"__count\": 3, \"bin_step_2_Count\": 372.0, \"bin_step_2_Count_end\": 374.0}, {\"Count\": 371, \"__count\": 3, \"bin_step_2_Count\": 370.0, \"bin_step_2_Count_end\": 372.0}, {\"Count\": 370, \"__count\": 2, \"bin_step_2_Count\": 370.0, \"bin_step_2_Count_end\": 372.0}, {\"Count\": 369, \"__count\": 1, \"bin_step_2_Count\": 368.0, \"bin_step_2_Count_end\": 370.0}, {\"Count\": 368, \"__count\": 5, \"bin_step_2_Count\": 368.0, \"bin_step_2_Count_end\": 370.0}, {\"Count\": 367, \"__count\": 2, \"bin_step_2_Count\": 366.0, \"bin_step_2_Count_end\": 368.0}, {\"Count\": 366, \"__count\": 2, \"bin_step_2_Count\": 366.0, \"bin_step_2_Count_end\": 368.0}, {\"Count\": 365, \"__count\": 1, \"bin_step_2_Count\": 364.0, \"bin_step_2_Count_end\": 366.0}, {\"Count\": 364, \"__count\": 1, \"bin_step_2_Count\": 364.0, \"bin_step_2_Count_end\": 366.0}, {\"Count\": 363, \"__count\": 2, \"bin_step_2_Count\": 362.0, \"bin_step_2_Count_end\": 364.0}, {\"Count\": 362, \"__count\": 6, \"bin_step_2_Count\": 362.0, \"bin_step_2_Count_end\": 364.0}, {\"Count\": 361, \"__count\": 3, \"bin_step_2_Count\": 360.0, \"bin_step_2_Count_end\": 362.0}, {\"Count\": 360, \"__count\": 1, \"bin_step_2_Count\": 360.0, \"bin_step_2_Count_end\": 362.0}, {\"Count\": 359, \"__count\": 2, \"bin_step_2_Count\": 358.0, \"bin_step_2_Count_end\": 360.0}, {\"Count\": 358, \"__count\": 3, \"bin_step_2_Count\": 358.0, \"bin_step_2_Count_end\": 360.0}, {\"Count\": 357, \"__count\": 7, \"bin_step_2_Count\": 356.0, \"bin_step_2_Count_end\": 358.0}, {\"Count\": 356, \"__count\": 4, \"bin_step_2_Count\": 356.0, \"bin_step_2_Count_end\": 358.0}, {\"Count\": 355, \"__count\": 2, \"bin_step_2_Count\": 354.0, \"bin_step_2_Count_end\": 356.0}, {\"Count\": 354, \"__count\": 8, \"bin_step_2_Count\": 354.0, \"bin_step_2_Count_end\": 356.0}, {\"Count\": 353, \"__count\": 2, \"bin_step_2_Count\": 352.0, \"bin_step_2_Count_end\": 354.0}, {\"Count\": 352, \"__count\": 1, \"bin_step_2_Count\": 352.0, \"bin_step_2_Count_end\": 354.0}, {\"Count\": 351, \"__count\": 6, \"bin_step_2_Count\": 350.0, \"bin_step_2_Count_end\": 352.0}, {\"Count\": 350, \"__count\": 5, \"bin_step_2_Count\": 350.0, \"bin_step_2_Count_end\": 352.0}, {\"Count\": 349, \"__count\": 1, \"bin_step_2_Count\": 348.0, \"bin_step_2_Count_end\": 350.0}, {\"Count\": 348, \"__count\": 3, \"bin_step_2_Count\": 348.0, \"bin_step_2_Count_end\": 350.0}, {\"Count\": 346, \"__count\": 3, \"bin_step_2_Count\": 346.0, \"bin_step_2_Count_end\": 348.0}, {\"Count\": 345, \"__count\": 2, \"bin_step_2_Count\": 344.0, \"bin_step_2_Count_end\": 346.0}, {\"Count\": 343, \"__count\": 2, \"bin_step_2_Count\": 342.0, \"bin_step_2_Count_end\": 344.0}, {\"Count\": 342, \"__count\": 5, \"bin_step_2_Count\": 342.0, \"bin_step_2_Count_end\": 344.0}, {\"Count\": 341, \"__count\": 5, \"bin_step_2_Count\": 340.0, \"bin_step_2_Count_end\": 342.0}, {\"Count\": 340, \"__count\": 2, \"bin_step_2_Count\": 340.0, \"bin_step_2_Count_end\": 342.0}, {\"Count\": 339, \"__count\": 1, \"bin_step_2_Count\": 338.0, \"bin_step_2_Count_end\": 340.0}, {\"Count\": 338, \"__count\": 4, \"bin_step_2_Count\": 338.0, \"bin_step_2_Count_end\": 340.0}, {\"Count\": 337, \"__count\": 2, \"bin_step_2_Count\": 336.0, \"bin_step_2_Count_end\": 338.0}, {\"Count\": 336, \"__count\": 2, \"bin_step_2_Count\": 336.0, \"bin_step_2_Count_end\": 338.0}, {\"Count\": 335, \"__count\": 4, \"bin_step_2_Count\": 334.0, \"bin_step_2_Count_end\": 336.0}, {\"Count\": 334, \"__count\": 4, \"bin_step_2_Count\": 334.0, \"bin_step_2_Count_end\": 336.0}, {\"Count\": 333, \"__count\": 5, \"bin_step_2_Count\": 332.0, \"bin_step_2_Count_end\": 334.0}, {\"Count\": 332, \"__count\": 4, \"bin_step_2_Count\": 332.0, \"bin_step_2_Count_end\": 334.0}, {\"Count\": 331, \"__count\": 4, \"bin_step_2_Count\": 330.0, \"bin_step_2_Count_end\": 332.0}, {\"Count\": 330, \"__count\": 2, \"bin_step_2_Count\": 330.0, \"bin_step_2_Count_end\": 332.0}, {\"Count\": 329, \"__count\": 4, \"bin_step_2_Count\": 328.0, \"bin_step_2_Count_end\": 330.0}, {\"Count\": 328, \"__count\": 6, \"bin_step_2_Count\": 328.0, \"bin_step_2_Count_end\": 330.0}, {\"Count\": 327, \"__count\": 3, \"bin_step_2_Count\": 326.0, \"bin_step_2_Count_end\": 328.0}, {\"Count\": 326, \"__count\": 6, \"bin_step_2_Count\": 326.0, \"bin_step_2_Count_end\": 328.0}, {\"Count\": 325, \"__count\": 1, \"bin_step_2_Count\": 324.0, \"bin_step_2_Count_end\": 326.0}, {\"Count\": 324, \"__count\": 8, \"bin_step_2_Count\": 324.0, \"bin_step_2_Count_end\": 326.0}, {\"Count\": 323, \"__count\": 4, \"bin_step_2_Count\": 322.0, \"bin_step_2_Count_end\": 324.0}, {\"Count\": 322, \"__count\": 4, \"bin_step_2_Count\": 322.0, \"bin_step_2_Count_end\": 324.0}, {\"Count\": 321, \"__count\": 3, \"bin_step_2_Count\": 320.0, \"bin_step_2_Count_end\": 322.0}, {\"Count\": 320, \"__count\": 4, \"bin_step_2_Count\": 320.0, \"bin_step_2_Count_end\": 322.0}, {\"Count\": 319, \"__count\": 3, \"bin_step_2_Count\": 318.0, \"bin_step_2_Count_end\": 320.0}, {\"Count\": 318, \"__count\": 9, \"bin_step_2_Count\": 318.0, \"bin_step_2_Count_end\": 320.0}, {\"Count\": 317, \"__count\": 8, \"bin_step_2_Count\": 316.0, \"bin_step_2_Count_end\": 318.0}, {\"Count\": 316, \"__count\": 3, \"bin_step_2_Count\": 316.0, \"bin_step_2_Count_end\": 318.0}, {\"Count\": 315, \"__count\": 6, \"bin_step_2_Count\": 314.0, \"bin_step_2_Count_end\": 316.0}, {\"Count\": 314, \"__count\": 7, \"bin_step_2_Count\": 314.0, \"bin_step_2_Count_end\": 316.0}, {\"Count\": 312, \"__count\": 7, \"bin_step_2_Count\": 312.0, \"bin_step_2_Count_end\": 314.0}, {\"Count\": 311, \"__count\": 1, \"bin_step_2_Count\": 310.0, \"bin_step_2_Count_end\": 312.0}, {\"Count\": 310, \"__count\": 4, \"bin_step_2_Count\": 310.0, \"bin_step_2_Count_end\": 312.0}, {\"Count\": 309, \"__count\": 5, \"bin_step_2_Count\": 308.0, \"bin_step_2_Count_end\": 310.0}, {\"Count\": 308, \"__count\": 7, \"bin_step_2_Count\": 308.0, \"bin_step_2_Count_end\": 310.0}, {\"Count\": 307, \"__count\": 5, \"bin_step_2_Count\": 306.0, \"bin_step_2_Count_end\": 308.0}, {\"Count\": 306, \"__count\": 3, \"bin_step_2_Count\": 306.0, \"bin_step_2_Count_end\": 308.0}, {\"Count\": 305, \"__count\": 7, \"bin_step_2_Count\": 304.0, \"bin_step_2_Count_end\": 306.0}, {\"Count\": 304, \"__count\": 7, \"bin_step_2_Count\": 304.0, \"bin_step_2_Count_end\": 306.0}, {\"Count\": 303, \"__count\": 3, \"bin_step_2_Count\": 302.0, \"bin_step_2_Count_end\": 304.0}, {\"Count\": 302, \"__count\": 7, \"bin_step_2_Count\": 302.0, \"bin_step_2_Count_end\": 304.0}, {\"Count\": 301, \"__count\": 6, \"bin_step_2_Count\": 300.0, \"bin_step_2_Count_end\": 302.0}, {\"Count\": 300, \"__count\": 10, \"bin_step_2_Count\": 300.0, \"bin_step_2_Count_end\": 302.0}, {\"Count\": 299, \"__count\": 7, \"bin_step_2_Count\": 298.0, \"bin_step_2_Count_end\": 300.0}, {\"Count\": 298, \"__count\": 4, \"bin_step_2_Count\": 298.0, \"bin_step_2_Count_end\": 300.0}, {\"Count\": 297, \"__count\": 12, \"bin_step_2_Count\": 296.0, \"bin_step_2_Count_end\": 298.0}, {\"Count\": 296, \"__count\": 4, \"bin_step_2_Count\": 296.0, \"bin_step_2_Count_end\": 298.0}, {\"Count\": 295, \"__count\": 3, \"bin_step_2_Count\": 294.0, \"bin_step_2_Count_end\": 296.0}, {\"Count\": 294, \"__count\": 4, \"bin_step_2_Count\": 294.0, \"bin_step_2_Count_end\": 296.0}, {\"Count\": 293, \"__count\": 8, \"bin_step_2_Count\": 292.0, \"bin_step_2_Count_end\": 294.0}, {\"Count\": 292, \"__count\": 3, \"bin_step_2_Count\": 292.0, \"bin_step_2_Count_end\": 294.0}, {\"Count\": 291, \"__count\": 2, \"bin_step_2_Count\": 290.0, \"bin_step_2_Count_end\": 292.0}, {\"Count\": 290, \"__count\": 4, \"bin_step_2_Count\": 290.0, \"bin_step_2_Count_end\": 292.0}, {\"Count\": 289, \"__count\": 7, \"bin_step_2_Count\": 288.0, \"bin_step_2_Count_end\": 290.0}, {\"Count\": 288, \"__count\": 3, \"bin_step_2_Count\": 288.0, \"bin_step_2_Count_end\": 290.0}, {\"Count\": 287, \"__count\": 6, \"bin_step_2_Count\": 286.0, \"bin_step_2_Count_end\": 288.0}, {\"Count\": 286, \"__count\": 5, \"bin_step_2_Count\": 286.0, \"bin_step_2_Count_end\": 288.0}, {\"Count\": 285, \"__count\": 6, \"bin_step_2_Count\": 284.0, \"bin_step_2_Count_end\": 286.0}, {\"Count\": 284, \"__count\": 8, \"bin_step_2_Count\": 284.0, \"bin_step_2_Count_end\": 286.0}, {\"Count\": 283, \"__count\": 7, \"bin_step_2_Count\": 282.0, \"bin_step_2_Count_end\": 284.0}, {\"Count\": 282, \"__count\": 7, \"bin_step_2_Count\": 282.0, \"bin_step_2_Count_end\": 284.0}, {\"Count\": 281, \"__count\": 1, \"bin_step_2_Count\": 280.0, \"bin_step_2_Count_end\": 282.0}, {\"Count\": 280, \"__count\": 7, \"bin_step_2_Count\": 280.0, \"bin_step_2_Count_end\": 282.0}, {\"Count\": 279, \"__count\": 7, \"bin_step_2_Count\": 278.0, \"bin_step_2_Count_end\": 280.0}, {\"Count\": 278, \"__count\": 5, \"bin_step_2_Count\": 278.0, \"bin_step_2_Count_end\": 280.0}, {\"Count\": 277, \"__count\": 3, \"bin_step_2_Count\": 276.0, \"bin_step_2_Count_end\": 278.0}, {\"Count\": 276, \"__count\": 4, \"bin_step_2_Count\": 276.0, \"bin_step_2_Count_end\": 278.0}, {\"Count\": 275, \"__count\": 2, \"bin_step_2_Count\": 274.0, \"bin_step_2_Count_end\": 276.0}, {\"Count\": 274, \"__count\": 1, \"bin_step_2_Count\": 274.0, \"bin_step_2_Count_end\": 276.0}, {\"Count\": 273, \"__count\": 4, \"bin_step_2_Count\": 272.0, \"bin_step_2_Count_end\": 274.0}, {\"Count\": 272, \"__count\": 6, \"bin_step_2_Count\": 272.0, \"bin_step_2_Count_end\": 274.0}, {\"Count\": 271, \"__count\": 7, \"bin_step_2_Count\": 270.0, \"bin_step_2_Count_end\": 272.0}, {\"Count\": 270, \"__count\": 6, \"bin_step_2_Count\": 270.0, \"bin_step_2_Count_end\": 272.0}, {\"Count\": 269, \"__count\": 4, \"bin_step_2_Count\": 268.0, \"bin_step_2_Count_end\": 270.0}, {\"Count\": 268, \"__count\": 5, \"bin_step_2_Count\": 268.0, \"bin_step_2_Count_end\": 270.0}, {\"Count\": 267, \"__count\": 2, \"bin_step_2_Count\": 266.0, \"bin_step_2_Count_end\": 268.0}, {\"Count\": 266, \"__count\": 8, \"bin_step_2_Count\": 266.0, \"bin_step_2_Count_end\": 268.0}, {\"Count\": 265, \"__count\": 5, \"bin_step_2_Count\": 264.0, \"bin_step_2_Count_end\": 266.0}, {\"Count\": 264, \"__count\": 5, \"bin_step_2_Count\": 264.0, \"bin_step_2_Count_end\": 266.0}, {\"Count\": 263, \"__count\": 8, \"bin_step_2_Count\": 262.0, \"bin_step_2_Count_end\": 264.0}, {\"Count\": 262, \"__count\": 2, \"bin_step_2_Count\": 262.0, \"bin_step_2_Count_end\": 264.0}, {\"Count\": 261, \"__count\": 7, \"bin_step_2_Count\": 260.0, \"bin_step_2_Count_end\": 262.0}, {\"Count\": 260, \"__count\": 7, \"bin_step_2_Count\": 260.0, \"bin_step_2_Count_end\": 262.0}, {\"Count\": 259, \"__count\": 5, \"bin_step_2_Count\": 258.0, \"bin_step_2_Count_end\": 260.0}, {\"Count\": 258, \"__count\": 5, \"bin_step_2_Count\": 258.0, \"bin_step_2_Count_end\": 260.0}, {\"Count\": 257, \"__count\": 3, \"bin_step_2_Count\": 256.0, \"bin_step_2_Count_end\": 258.0}, {\"Count\": 256, \"__count\": 8, \"bin_step_2_Count\": 256.0, \"bin_step_2_Count_end\": 258.0}, {\"Count\": 255, \"__count\": 4, \"bin_step_2_Count\": 254.0, \"bin_step_2_Count_end\": 256.0}, {\"Count\": 254, \"__count\": 8, \"bin_step_2_Count\": 254.0, \"bin_step_2_Count_end\": 256.0}, {\"Count\": 253, \"__count\": 11, \"bin_step_2_Count\": 252.0, \"bin_step_2_Count_end\": 254.0}, {\"Count\": 252, \"__count\": 3, \"bin_step_2_Count\": 252.0, \"bin_step_2_Count_end\": 254.0}, {\"Count\": 251, \"__count\": 5, \"bin_step_2_Count\": 250.0, \"bin_step_2_Count_end\": 252.0}, {\"Count\": 250, \"__count\": 2, \"bin_step_2_Count\": 250.0, \"bin_step_2_Count_end\": 252.0}, {\"Count\": 249, \"__count\": 5, \"bin_step_2_Count\": 248.0, \"bin_step_2_Count_end\": 250.0}, {\"Count\": 248, \"__count\": 5, \"bin_step_2_Count\": 248.0, \"bin_step_2_Count_end\": 250.0}, {\"Count\": 247, \"__count\": 7, \"bin_step_2_Count\": 246.0, \"bin_step_2_Count_end\": 248.0}, {\"Count\": 246, \"__count\": 8, \"bin_step_2_Count\": 246.0, \"bin_step_2_Count_end\": 248.0}, {\"Count\": 245, \"__count\": 4, \"bin_step_2_Count\": 244.0, \"bin_step_2_Count_end\": 246.0}, {\"Count\": 244, \"__count\": 4, \"bin_step_2_Count\": 244.0, \"bin_step_2_Count_end\": 246.0}, {\"Count\": 243, \"__count\": 3, \"bin_step_2_Count\": 242.0, \"bin_step_2_Count_end\": 244.0}, {\"Count\": 242, \"__count\": 6, \"bin_step_2_Count\": 242.0, \"bin_step_2_Count_end\": 244.0}, {\"Count\": 241, \"__count\": 5, \"bin_step_2_Count\": 240.0, \"bin_step_2_Count_end\": 242.0}, {\"Count\": 240, \"__count\": 6, \"bin_step_2_Count\": 240.0, \"bin_step_2_Count_end\": 242.0}, {\"Count\": 239, \"__count\": 7, \"bin_step_2_Count\": 238.0, \"bin_step_2_Count_end\": 240.0}, {\"Count\": 238, \"__count\": 4, \"bin_step_2_Count\": 238.0, \"bin_step_2_Count_end\": 240.0}, {\"Count\": 237, \"__count\": 5, \"bin_step_2_Count\": 236.0, \"bin_step_2_Count_end\": 238.0}, {\"Count\": 236, \"__count\": 2, \"bin_step_2_Count\": 236.0, \"bin_step_2_Count_end\": 238.0}, {\"Count\": 235, \"__count\": 8, \"bin_step_2_Count\": 234.0, \"bin_step_2_Count_end\": 236.0}, {\"Count\": 234, \"__count\": 6, \"bin_step_2_Count\": 234.0, \"bin_step_2_Count_end\": 236.0}, {\"Count\": 233, \"__count\": 9, \"bin_step_2_Count\": 232.0, \"bin_step_2_Count_end\": 234.0}, {\"Count\": 232, \"__count\": 10, \"bin_step_2_Count\": 232.0, \"bin_step_2_Count_end\": 234.0}, {\"Count\": 231, \"__count\": 7, \"bin_step_2_Count\": 230.0, \"bin_step_2_Count_end\": 232.0}, {\"Count\": 230, \"__count\": 4, \"bin_step_2_Count\": 230.0, \"bin_step_2_Count_end\": 232.0}, {\"Count\": 229, \"__count\": 11, \"bin_step_2_Count\": 228.0, \"bin_step_2_Count_end\": 230.0}, {\"Count\": 228, \"__count\": 8, \"bin_step_2_Count\": 228.0, \"bin_step_2_Count_end\": 230.0}, {\"Count\": 227, \"__count\": 9, \"bin_step_2_Count\": 226.0, \"bin_step_2_Count_end\": 228.0}, {\"Count\": 226, \"__count\": 3, \"bin_step_2_Count\": 226.0, \"bin_step_2_Count_end\": 228.0}, {\"Count\": 225, \"__count\": 8, \"bin_step_2_Count\": 224.0, \"bin_step_2_Count_end\": 226.0}, {\"Count\": 224, \"__count\": 8, \"bin_step_2_Count\": 224.0, \"bin_step_2_Count_end\": 226.0}, {\"Count\": 223, \"__count\": 9, \"bin_step_2_Count\": 222.0, \"bin_step_2_Count_end\": 224.0}, {\"Count\": 222, \"__count\": 3, \"bin_step_2_Count\": 222.0, \"bin_step_2_Count_end\": 224.0}, {\"Count\": 221, \"__count\": 10, \"bin_step_2_Count\": 220.0, \"bin_step_2_Count_end\": 222.0}, {\"Count\": 220, \"__count\": 8, \"bin_step_2_Count\": 220.0, \"bin_step_2_Count_end\": 222.0}, {\"Count\": 219, \"__count\": 11, \"bin_step_2_Count\": 218.0, \"bin_step_2_Count_end\": 220.0}, {\"Count\": 218, \"__count\": 5, \"bin_step_2_Count\": 218.0, \"bin_step_2_Count_end\": 220.0}, {\"Count\": 217, \"__count\": 6, \"bin_step_2_Count\": 216.0, \"bin_step_2_Count_end\": 218.0}, {\"Count\": 216, \"__count\": 2, \"bin_step_2_Count\": 216.0, \"bin_step_2_Count_end\": 218.0}, {\"Count\": 215, \"__count\": 5, \"bin_step_2_Count\": 214.0, \"bin_step_2_Count_end\": 216.0}, {\"Count\": 214, \"__count\": 7, \"bin_step_2_Count\": 214.0, \"bin_step_2_Count_end\": 216.0}, {\"Count\": 213, \"__count\": 8, \"bin_step_2_Count\": 212.0, \"bin_step_2_Count_end\": 214.0}, {\"Count\": 212, \"__count\": 14, \"bin_step_2_Count\": 212.0, \"bin_step_2_Count_end\": 214.0}, {\"Count\": 211, \"__count\": 10, \"bin_step_2_Count\": 210.0, \"bin_step_2_Count_end\": 212.0}, {\"Count\": 210, \"__count\": 11, \"bin_step_2_Count\": 210.0, \"bin_step_2_Count_end\": 212.0}, {\"Count\": 209, \"__count\": 7, \"bin_step_2_Count\": 208.0, \"bin_step_2_Count_end\": 210.0}, {\"Count\": 208, \"__count\": 8, \"bin_step_2_Count\": 208.0, \"bin_step_2_Count_end\": 210.0}, {\"Count\": 207, \"__count\": 6, \"bin_step_2_Count\": 206.0, \"bin_step_2_Count_end\": 208.0}, {\"Count\": 206, \"__count\": 12, \"bin_step_2_Count\": 206.0, \"bin_step_2_Count_end\": 208.0}, {\"Count\": 205, \"__count\": 9, \"bin_step_2_Count\": 204.0, \"bin_step_2_Count_end\": 206.0}, {\"Count\": 204, \"__count\": 11, \"bin_step_2_Count\": 204.0, \"bin_step_2_Count_end\": 206.0}, {\"Count\": 203, \"__count\": 12, \"bin_step_2_Count\": 202.0, \"bin_step_2_Count_end\": 204.0}, {\"Count\": 202, \"__count\": 11, \"bin_step_2_Count\": 202.0, \"bin_step_2_Count_end\": 204.0}, {\"Count\": 201, \"__count\": 6, \"bin_step_2_Count\": 200.0, \"bin_step_2_Count_end\": 202.0}, {\"Count\": 200, \"__count\": 11, \"bin_step_2_Count\": 200.0, \"bin_step_2_Count_end\": 202.0}, {\"Count\": 199, \"__count\": 7, \"bin_step_2_Count\": 198.0, \"bin_step_2_Count_end\": 200.0}, {\"Count\": 198, \"__count\": 9, \"bin_step_2_Count\": 198.0, \"bin_step_2_Count_end\": 200.0}, {\"Count\": 197, \"__count\": 11, \"bin_step_2_Count\": 196.0, \"bin_step_2_Count_end\": 198.0}, {\"Count\": 196, \"__count\": 8, \"bin_step_2_Count\": 196.0, \"bin_step_2_Count_end\": 198.0}, {\"Count\": 195, \"__count\": 11, \"bin_step_2_Count\": 194.0, \"bin_step_2_Count_end\": 196.0}, {\"Count\": 194, \"__count\": 8, \"bin_step_2_Count\": 194.0, \"bin_step_2_Count_end\": 196.0}, {\"Count\": 193, \"__count\": 4, \"bin_step_2_Count\": 192.0, \"bin_step_2_Count_end\": 194.0}, {\"Count\": 192, \"__count\": 7, \"bin_step_2_Count\": 192.0, \"bin_step_2_Count_end\": 194.0}, {\"Count\": 191, \"__count\": 11, \"bin_step_2_Count\": 190.0, \"bin_step_2_Count_end\": 192.0}, {\"Count\": 190, \"__count\": 8, \"bin_step_2_Count\": 190.0, \"bin_step_2_Count_end\": 192.0}, {\"Count\": 189, \"__count\": 8, \"bin_step_2_Count\": 188.0, \"bin_step_2_Count_end\": 190.0}, {\"Count\": 188, \"__count\": 7, \"bin_step_2_Count\": 188.0, \"bin_step_2_Count_end\": 190.0}, {\"Count\": 187, \"__count\": 12, \"bin_step_2_Count\": 186.0, \"bin_step_2_Count_end\": 188.0}, {\"Count\": 186, \"__count\": 7, \"bin_step_2_Count\": 186.0, \"bin_step_2_Count_end\": 188.0}, {\"Count\": 185, \"__count\": 5, \"bin_step_2_Count\": 184.0, \"bin_step_2_Count_end\": 186.0}, {\"Count\": 184, \"__count\": 7, \"bin_step_2_Count\": 184.0, \"bin_step_2_Count_end\": 186.0}, {\"Count\": 183, \"__count\": 6, \"bin_step_2_Count\": 182.0, \"bin_step_2_Count_end\": 184.0}, {\"Count\": 182, \"__count\": 10, \"bin_step_2_Count\": 182.0, \"bin_step_2_Count_end\": 184.0}, {\"Count\": 181, \"__count\": 5, \"bin_step_2_Count\": 180.0, \"bin_step_2_Count_end\": 182.0}, {\"Count\": 180, \"__count\": 5, \"bin_step_2_Count\": 180.0, \"bin_step_2_Count_end\": 182.0}, {\"Count\": 179, \"__count\": 10, \"bin_step_2_Count\": 178.0, \"bin_step_2_Count_end\": 180.0}, {\"Count\": 178, \"__count\": 8, \"bin_step_2_Count\": 178.0, \"bin_step_2_Count_end\": 180.0}, {\"Count\": 177, \"__count\": 10, \"bin_step_2_Count\": 176.0, \"bin_step_2_Count_end\": 178.0}, {\"Count\": 176, \"__count\": 5, \"bin_step_2_Count\": 176.0, \"bin_step_2_Count_end\": 178.0}, {\"Count\": 175, \"__count\": 11, \"bin_step_2_Count\": 174.0, \"bin_step_2_Count_end\": 176.0}, {\"Count\": 174, \"__count\": 16, \"bin_step_2_Count\": 174.0, \"bin_step_2_Count_end\": 176.0}, {\"Count\": 173, \"__count\": 10, \"bin_step_2_Count\": 172.0, \"bin_step_2_Count_end\": 174.0}, {\"Count\": 172, \"__count\": 13, \"bin_step_2_Count\": 172.0, \"bin_step_2_Count_end\": 174.0}, {\"Count\": 171, \"__count\": 13, \"bin_step_2_Count\": 170.0, \"bin_step_2_Count_end\": 172.0}, {\"Count\": 170, \"__count\": 15, \"bin_step_2_Count\": 170.0, \"bin_step_2_Count_end\": 172.0}, {\"Count\": 169, \"__count\": 8, \"bin_step_2_Count\": 168.0, \"bin_step_2_Count_end\": 170.0}, {\"Count\": 168, \"__count\": 12, \"bin_step_2_Count\": 168.0, \"bin_step_2_Count_end\": 170.0}, {\"Count\": 167, \"__count\": 7, \"bin_step_2_Count\": 166.0, \"bin_step_2_Count_end\": 168.0}, {\"Count\": 166, \"__count\": 9, \"bin_step_2_Count\": 166.0, \"bin_step_2_Count_end\": 168.0}, {\"Count\": 165, \"__count\": 11, \"bin_step_2_Count\": 164.0, \"bin_step_2_Count_end\": 166.0}, {\"Count\": 164, \"__count\": 7, \"bin_step_2_Count\": 164.0, \"bin_step_2_Count_end\": 166.0}, {\"Count\": 163, \"__count\": 16, \"bin_step_2_Count\": 162.0, \"bin_step_2_Count_end\": 164.0}, {\"Count\": 162, \"__count\": 11, \"bin_step_2_Count\": 162.0, \"bin_step_2_Count_end\": 164.0}, {\"Count\": 161, \"__count\": 10, \"bin_step_2_Count\": 160.0, \"bin_step_2_Count_end\": 162.0}, {\"Count\": 160, \"__count\": 9, \"bin_step_2_Count\": 160.0, \"bin_step_2_Count_end\": 162.0}, {\"Count\": 159, \"__count\": 19, \"bin_step_2_Count\": 158.0, \"bin_step_2_Count_end\": 160.0}, {\"Count\": 158, \"__count\": 16, \"bin_step_2_Count\": 158.0, \"bin_step_2_Count_end\": 160.0}, {\"Count\": 157, \"__count\": 17, \"bin_step_2_Count\": 156.0, \"bin_step_2_Count_end\": 158.0}, {\"Count\": 156, \"__count\": 13, \"bin_step_2_Count\": 156.0, \"bin_step_2_Count_end\": 158.0}, {\"Count\": 155, \"__count\": 11, \"bin_step_2_Count\": 154.0, \"bin_step_2_Count_end\": 156.0}, {\"Count\": 154, \"__count\": 17, \"bin_step_2_Count\": 154.0, \"bin_step_2_Count_end\": 156.0}, {\"Count\": 153, \"__count\": 13, \"bin_step_2_Count\": 152.0, \"bin_step_2_Count_end\": 154.0}, {\"Count\": 152, \"__count\": 11, \"bin_step_2_Count\": 152.0, \"bin_step_2_Count_end\": 154.0}, {\"Count\": 151, \"__count\": 11, \"bin_step_2_Count\": 150.0, \"bin_step_2_Count_end\": 152.0}, {\"Count\": 150, \"__count\": 12, \"bin_step_2_Count\": 150.0, \"bin_step_2_Count_end\": 152.0}, {\"Count\": 149, \"__count\": 15, \"bin_step_2_Count\": 148.0, \"bin_step_2_Count_end\": 150.0}, {\"Count\": 148, \"__count\": 21, \"bin_step_2_Count\": 148.0, \"bin_step_2_Count_end\": 150.0}, {\"Count\": 147, \"__count\": 12, \"bin_step_2_Count\": 146.0, \"bin_step_2_Count_end\": 148.0}, {\"Count\": 146, \"__count\": 13, \"bin_step_2_Count\": 146.0, \"bin_step_2_Count_end\": 148.0}, {\"Count\": 145, \"__count\": 12, \"bin_step_2_Count\": 144.0, \"bin_step_2_Count_end\": 146.0}, {\"Count\": 144, \"__count\": 12, \"bin_step_2_Count\": 144.0, \"bin_step_2_Count_end\": 146.0}, {\"Count\": 143, \"__count\": 17, \"bin_step_2_Count\": 142.0, \"bin_step_2_Count_end\": 144.0}, {\"Count\": 142, \"__count\": 9, \"bin_step_2_Count\": 142.0, \"bin_step_2_Count_end\": 144.0}, {\"Count\": 141, \"__count\": 8, \"bin_step_2_Count\": 140.0, \"bin_step_2_Count_end\": 142.0}, {\"Count\": 140, \"__count\": 12, \"bin_step_2_Count\": 140.0, \"bin_step_2_Count_end\": 142.0}, {\"Count\": 139, \"__count\": 14, \"bin_step_2_Count\": 138.0, \"bin_step_2_Count_end\": 140.0}, {\"Count\": 138, \"__count\": 15, \"bin_step_2_Count\": 138.0, \"bin_step_2_Count_end\": 140.0}, {\"Count\": 137, \"__count\": 12, \"bin_step_2_Count\": 136.0, \"bin_step_2_Count_end\": 138.0}, {\"Count\": 136, \"__count\": 14, \"bin_step_2_Count\": 136.0, \"bin_step_2_Count_end\": 138.0}, {\"Count\": 135, \"__count\": 14, \"bin_step_2_Count\": 134.0, \"bin_step_2_Count_end\": 136.0}, {\"Count\": 134, \"__count\": 10, \"bin_step_2_Count\": 134.0, \"bin_step_2_Count_end\": 136.0}, {\"Count\": 133, \"__count\": 10, \"bin_step_2_Count\": 132.0, \"bin_step_2_Count_end\": 134.0}, {\"Count\": 132, \"__count\": 22, \"bin_step_2_Count\": 132.0, \"bin_step_2_Count_end\": 134.0}, {\"Count\": 131, \"__count\": 11, \"bin_step_2_Count\": 130.0, \"bin_step_2_Count_end\": 132.0}, {\"Count\": 130, \"__count\": 14, \"bin_step_2_Count\": 130.0, \"bin_step_2_Count_end\": 132.0}, {\"Count\": 129, \"__count\": 15, \"bin_step_2_Count\": 128.0, \"bin_step_2_Count_end\": 130.0}, {\"Count\": 128, \"__count\": 10, \"bin_step_2_Count\": 128.0, \"bin_step_2_Count_end\": 130.0}, {\"Count\": 127, \"__count\": 16, \"bin_step_2_Count\": 126.0, \"bin_step_2_Count_end\": 128.0}, {\"Count\": 126, \"__count\": 25, \"bin_step_2_Count\": 126.0, \"bin_step_2_Count_end\": 128.0}, {\"Count\": 125, \"__count\": 24, \"bin_step_2_Count\": 124.0, \"bin_step_2_Count_end\": 126.0}, {\"Count\": 124, \"__count\": 20, \"bin_step_2_Count\": 124.0, \"bin_step_2_Count_end\": 126.0}, {\"Count\": 123, \"__count\": 16, \"bin_step_2_Count\": 122.0, \"bin_step_2_Count_end\": 124.0}, {\"Count\": 122, \"__count\": 17, \"bin_step_2_Count\": 122.0, \"bin_step_2_Count_end\": 124.0}, {\"Count\": 121, \"__count\": 16, \"bin_step_2_Count\": 120.0, \"bin_step_2_Count_end\": 122.0}, {\"Count\": 120, \"__count\": 20, \"bin_step_2_Count\": 120.0, \"bin_step_2_Count_end\": 122.0}, {\"Count\": 119, \"__count\": 19, \"bin_step_2_Count\": 118.0, \"bin_step_2_Count_end\": 120.0}, {\"Count\": 118, \"__count\": 16, \"bin_step_2_Count\": 118.0, \"bin_step_2_Count_end\": 120.0}, {\"Count\": 117, \"__count\": 20, \"bin_step_2_Count\": 116.0, \"bin_step_2_Count_end\": 118.0}, {\"Count\": 116, \"__count\": 22, \"bin_step_2_Count\": 116.0, \"bin_step_2_Count_end\": 118.0}, {\"Count\": 115, \"__count\": 17, \"bin_step_2_Count\": 114.0, \"bin_step_2_Count_end\": 116.0}, {\"Count\": 114, \"__count\": 17, \"bin_step_2_Count\": 114.0, \"bin_step_2_Count_end\": 116.0}, {\"Count\": 113, \"__count\": 14, \"bin_step_2_Count\": 112.0, \"bin_step_2_Count_end\": 114.0}, {\"Count\": 112, \"__count\": 12, \"bin_step_2_Count\": 112.0, \"bin_step_2_Count_end\": 114.0}, {\"Count\": 111, \"__count\": 15, \"bin_step_2_Count\": 110.0, \"bin_step_2_Count_end\": 112.0}, {\"Count\": 110, \"__count\": 17, \"bin_step_2_Count\": 110.0, \"bin_step_2_Count_end\": 112.0}, {\"Count\": 109, \"__count\": 14, \"bin_step_2_Count\": 108.0, \"bin_step_2_Count_end\": 110.0}, {\"Count\": 108, \"__count\": 23, \"bin_step_2_Count\": 108.0, \"bin_step_2_Count_end\": 110.0}, {\"Count\": 107, \"__count\": 13, \"bin_step_2_Count\": 106.0, \"bin_step_2_Count_end\": 108.0}, {\"Count\": 106, \"__count\": 19, \"bin_step_2_Count\": 106.0, \"bin_step_2_Count_end\": 108.0}, {\"Count\": 105, \"__count\": 25, \"bin_step_2_Count\": 104.0, \"bin_step_2_Count_end\": 106.0}, {\"Count\": 104, \"__count\": 24, \"bin_step_2_Count\": 104.0, \"bin_step_2_Count_end\": 106.0}, {\"Count\": 103, \"__count\": 28, \"bin_step_2_Count\": 102.0, \"bin_step_2_Count_end\": 104.0}, {\"Count\": 102, \"__count\": 29, \"bin_step_2_Count\": 102.0, \"bin_step_2_Count_end\": 104.0}, {\"Count\": 101, \"__count\": 23, \"bin_step_2_Count\": 100.0, \"bin_step_2_Count_end\": 102.0}, {\"Count\": 100, \"__count\": 36, \"bin_step_2_Count\": 100.0, \"bin_step_2_Count_end\": 102.0}, {\"Count\": 99, \"__count\": 17, \"bin_step_2_Count\": 98.0, \"bin_step_2_Count_end\": 100.0}, {\"Count\": 98, \"__count\": 19, \"bin_step_2_Count\": 98.0, \"bin_step_2_Count_end\": 100.0}, {\"Count\": 97, \"__count\": 21, \"bin_step_2_Count\": 96.0, \"bin_step_2_Count_end\": 98.0}, {\"Count\": 96, \"__count\": 19, \"bin_step_2_Count\": 96.0, \"bin_step_2_Count_end\": 98.0}, {\"Count\": 95, \"__count\": 17, \"bin_step_2_Count\": 94.0, \"bin_step_2_Count_end\": 96.0}, {\"Count\": 94, \"__count\": 19, \"bin_step_2_Count\": 94.0, \"bin_step_2_Count_end\": 96.0}, {\"Count\": 93, \"__count\": 11, \"bin_step_2_Count\": 92.0, \"bin_step_2_Count_end\": 94.0}, {\"Count\": 92, \"__count\": 25, \"bin_step_2_Count\": 92.0, \"bin_step_2_Count_end\": 94.0}, {\"Count\": 91, \"__count\": 21, \"bin_step_2_Count\": 90.0, \"bin_step_2_Count_end\": 92.0}, {\"Count\": 90, \"__count\": 19, \"bin_step_2_Count\": 90.0, \"bin_step_2_Count_end\": 92.0}, {\"Count\": 89, \"__count\": 25, \"bin_step_2_Count\": 88.0, \"bin_step_2_Count_end\": 90.0}, {\"Count\": 88, \"__count\": 20, \"bin_step_2_Count\": 88.0, \"bin_step_2_Count_end\": 90.0}, {\"Count\": 87, \"__count\": 19, \"bin_step_2_Count\": 86.0, \"bin_step_2_Count_end\": 88.0}, {\"Count\": 86, \"__count\": 23, \"bin_step_2_Count\": 86.0, \"bin_step_2_Count_end\": 88.0}, {\"Count\": 85, \"__count\": 25, \"bin_step_2_Count\": 84.0, \"bin_step_2_Count_end\": 86.0}, {\"Count\": 84, \"__count\": 21, \"bin_step_2_Count\": 84.0, \"bin_step_2_Count_end\": 86.0}, {\"Count\": 83, \"__count\": 20, \"bin_step_2_Count\": 82.0, \"bin_step_2_Count_end\": 84.0}, {\"Count\": 82, \"__count\": 18, \"bin_step_2_Count\": 82.0, \"bin_step_2_Count_end\": 84.0}, {\"Count\": 81, \"__count\": 31, \"bin_step_2_Count\": 80.0, \"bin_step_2_Count_end\": 82.0}, {\"Count\": 80, \"__count\": 22, \"bin_step_2_Count\": 80.0, \"bin_step_2_Count_end\": 82.0}, {\"Count\": 79, \"__count\": 19, \"bin_step_2_Count\": 78.0, \"bin_step_2_Count_end\": 80.0}, {\"Count\": 78, \"__count\": 29, \"bin_step_2_Count\": 78.0, \"bin_step_2_Count_end\": 80.0}, {\"Count\": 77, \"__count\": 31, \"bin_step_2_Count\": 76.0, \"bin_step_2_Count_end\": 78.0}, {\"Count\": 76, \"__count\": 26, \"bin_step_2_Count\": 76.0, \"bin_step_2_Count_end\": 78.0}, {\"Count\": 75, \"__count\": 20, \"bin_step_2_Count\": 74.0, \"bin_step_2_Count_end\": 76.0}, {\"Count\": 74, \"__count\": 29, \"bin_step_2_Count\": 74.0, \"bin_step_2_Count_end\": 76.0}, {\"Count\": 73, \"__count\": 26, \"bin_step_2_Count\": 72.0, \"bin_step_2_Count_end\": 74.0}, {\"Count\": 72, \"__count\": 29, \"bin_step_2_Count\": 72.0, \"bin_step_2_Count_end\": 74.0}, {\"Count\": 71, \"__count\": 32, \"bin_step_2_Count\": 70.0, \"bin_step_2_Count_end\": 72.0}, {\"Count\": 70, \"__count\": 33, \"bin_step_2_Count\": 70.0, \"bin_step_2_Count_end\": 72.0}, {\"Count\": 69, \"__count\": 23, \"bin_step_2_Count\": 68.0, \"bin_step_2_Count_end\": 70.0}, {\"Count\": 68, \"__count\": 28, \"bin_step_2_Count\": 68.0, \"bin_step_2_Count_end\": 70.0}, {\"Count\": 67, \"__count\": 35, \"bin_step_2_Count\": 66.0, \"bin_step_2_Count_end\": 68.0}, {\"Count\": 66, \"__count\": 25, \"bin_step_2_Count\": 66.0, \"bin_step_2_Count_end\": 68.0}, {\"Count\": 65, \"__count\": 29, \"bin_step_2_Count\": 64.0, \"bin_step_2_Count_end\": 66.0}, {\"Count\": 64, \"__count\": 42, \"bin_step_2_Count\": 64.0, \"bin_step_2_Count_end\": 66.0}, {\"Count\": 63, \"__count\": 22, \"bin_step_2_Count\": 62.0, \"bin_step_2_Count_end\": 64.0}, {\"Count\": 62, \"__count\": 45, \"bin_step_2_Count\": 62.0, \"bin_step_2_Count_end\": 64.0}, {\"Count\": 61, \"__count\": 33, \"bin_step_2_Count\": 60.0, \"bin_step_2_Count_end\": 62.0}, {\"Count\": 60, \"__count\": 25, \"bin_step_2_Count\": 60.0, \"bin_step_2_Count_end\": 62.0}, {\"Count\": 59, \"__count\": 27, \"bin_step_2_Count\": 58.0, \"bin_step_2_Count_end\": 60.0}, {\"Count\": 58, \"__count\": 31, \"bin_step_2_Count\": 58.0, \"bin_step_2_Count_end\": 60.0}, {\"Count\": 57, \"__count\": 40, \"bin_step_2_Count\": 56.0, \"bin_step_2_Count_end\": 58.0}, {\"Count\": 56, \"__count\": 27, \"bin_step_2_Count\": 56.0, \"bin_step_2_Count_end\": 58.0}, {\"Count\": 55, \"__count\": 38, \"bin_step_2_Count\": 54.0, \"bin_step_2_Count_end\": 56.0}, {\"Count\": 54, \"__count\": 30, \"bin_step_2_Count\": 54.0, \"bin_step_2_Count_end\": 56.0}, {\"Count\": 53, \"__count\": 35, \"bin_step_2_Count\": 52.0, \"bin_step_2_Count_end\": 54.0}, {\"Count\": 52, \"__count\": 39, \"bin_step_2_Count\": 52.0, \"bin_step_2_Count_end\": 54.0}, {\"Count\": 51, \"__count\": 42, \"bin_step_2_Count\": 50.0, \"bin_step_2_Count_end\": 52.0}, {\"Count\": 50, \"__count\": 50, \"bin_step_2_Count\": 50.0, \"bin_step_2_Count_end\": 52.0}, {\"Count\": 49, \"__count\": 29, \"bin_step_2_Count\": 48.0, \"bin_step_2_Count_end\": 50.0}, {\"Count\": 48, \"__count\": 51, \"bin_step_2_Count\": 48.0, \"bin_step_2_Count_end\": 50.0}, {\"Count\": 47, \"__count\": 55, \"bin_step_2_Count\": 46.0, \"bin_step_2_Count_end\": 48.0}, {\"Count\": 46, \"__count\": 46, \"bin_step_2_Count\": 46.0, \"bin_step_2_Count_end\": 48.0}, {\"Count\": 45, \"__count\": 40, \"bin_step_2_Count\": 44.0, \"bin_step_2_Count_end\": 46.0}, {\"Count\": 44, \"__count\": 40, \"bin_step_2_Count\": 44.0, \"bin_step_2_Count_end\": 46.0}, {\"Count\": 43, \"__count\": 48, \"bin_step_2_Count\": 42.0, \"bin_step_2_Count_end\": 44.0}, {\"Count\": 42, \"__count\": 35, \"bin_step_2_Count\": 42.0, \"bin_step_2_Count_end\": 44.0}, {\"Count\": 41, \"__count\": 48, \"bin_step_2_Count\": 40.0, \"bin_step_2_Count_end\": 42.0}, {\"Count\": 40, \"__count\": 48, \"bin_step_2_Count\": 40.0, \"bin_step_2_Count_end\": 42.0}, {\"Count\": 39, \"__count\": 49, \"bin_step_2_Count\": 38.0, \"bin_step_2_Count_end\": 40.0}, {\"Count\": 38, \"__count\": 49, \"bin_step_2_Count\": 38.0, \"bin_step_2_Count_end\": 40.0}, {\"Count\": 37, \"__count\": 55, \"bin_step_2_Count\": 36.0, \"bin_step_2_Count_end\": 38.0}, {\"Count\": 36, \"__count\": 71, \"bin_step_2_Count\": 36.0, \"bin_step_2_Count_end\": 38.0}, {\"Count\": 35, \"__count\": 58, \"bin_step_2_Count\": 34.0, \"bin_step_2_Count_end\": 36.0}, {\"Count\": 34, \"__count\": 44, \"bin_step_2_Count\": 34.0, \"bin_step_2_Count_end\": 36.0}, {\"Count\": 33, \"__count\": 62, \"bin_step_2_Count\": 32.0, \"bin_step_2_Count_end\": 34.0}, {\"Count\": 32, \"__count\": 55, \"bin_step_2_Count\": 32.0, \"bin_step_2_Count_end\": 34.0}, {\"Count\": 31, \"__count\": 51, \"bin_step_2_Count\": 30.0, \"bin_step_2_Count_end\": 32.0}, {\"Count\": 30, \"__count\": 58, \"bin_step_2_Count\": 30.0, \"bin_step_2_Count_end\": 32.0}, {\"Count\": 29, \"__count\": 72, \"bin_step_2_Count\": 28.0, \"bin_step_2_Count_end\": 30.0}, {\"Count\": 28, \"__count\": 60, \"bin_step_2_Count\": 28.0, \"bin_step_2_Count_end\": 30.0}, {\"Count\": 27, \"__count\": 66, \"bin_step_2_Count\": 26.0, \"bin_step_2_Count_end\": 28.0}, {\"Count\": 26, \"__count\": 62, \"bin_step_2_Count\": 26.0, \"bin_step_2_Count_end\": 28.0}, {\"Count\": 25, \"__count\": 75, \"bin_step_2_Count\": 24.0, \"bin_step_2_Count_end\": 26.0}, {\"Count\": 24, \"__count\": 81, \"bin_step_2_Count\": 24.0, \"bin_step_2_Count_end\": 26.0}, {\"Count\": 23, \"__count\": 81, \"bin_step_2_Count\": 22.0, \"bin_step_2_Count_end\": 24.0}, {\"Count\": 22, \"__count\": 77, \"bin_step_2_Count\": 22.0, \"bin_step_2_Count_end\": 24.0}, {\"Count\": 21, \"__count\": 91, \"bin_step_2_Count\": 20.0, \"bin_step_2_Count_end\": 22.0}, {\"Count\": 20, \"__count\": 86, \"bin_step_2_Count\": 20.0, \"bin_step_2_Count_end\": 22.0}]}, {\"name\": \"source_0_y_domain___count\", \"values\": [{\"min\": 1, \"max\": 91}]}], \"signals\": [{\"name\": \"bin_step_2_Count_bins\", \"value\": {\"fields\": [\"Count\"], \"fname\": \"bin_Count\", \"start\": 20.0, \"step\": 2.0, \"stop\": 2314.0}}], \"marks\": [{\"type\": \"rect\", \"name\": \"marks\", \"from\": {\"data\": \"source_0\"}, \"encode\": {\"update\": {\"y\": {\"field\": \"__count\", \"scale\": \"y\"}, \"ariaRoleDescription\": {\"value\": \"bar\"}, \"fill\": {\"value\": \"#4c78a8\"}, \"x\": {\"field\": \"bin_step_2_Count_end\", \"scale\": \"x\", \"offset\": {\"signal\": \"0.5 + (abs(scale(\\\"x\\\", datum[\\\"bin_step_2_Count_end\\\"]) - scale(\\\"x\\\", datum[\\\"bin_step_2_Count\\\"])) < 0.25 ? 0.5 * (0.25 - (abs(scale(\\\"x\\\", datum[\\\"bin_step_2_Count_end\\\"]) - scale(\\\"x\\\", datum[\\\"bin_step_2_Count\\\"])))) : -0.5)\"}}, \"tooltip\": {\"signal\": \"{\\\"Count\\\": format(datum[\\\"Count\\\"], \\\"\\\"), \\\"Count of Records\\\": format(datum[\\\"__count\\\"], \\\"\\\")}\"}, \"x2\": {\"field\": \"bin_step_2_Count\", \"scale\": \"x\", \"offset\": {\"signal\": \"0.5 + (abs(scale(\\\"x\\\", datum[\\\"bin_step_2_Count_end\\\"]) - scale(\\\"x\\\", datum[\\\"bin_step_2_Count\\\"])) < 0.25 ? -0.5 * (0.25 - (abs(scale(\\\"x\\\", datum[\\\"bin_step_2_Count_end\\\"]) - scale(\\\"x\\\", datum[\\\"bin_step_2_Count\\\"])))) : 0.5)\"}}, \"description\": {\"signal\": \"\\\"Number of Ratings: \\\" + (!isValid(datum[\\\"bin_step_2_Count\\\"]) || !isFinite(+datum[\\\"bin_step_2_Count\\\"]) ? \\\"null\\\" : format(datum[\\\"bin_step_2_Count\\\"], \\\"\\\") + \\\" \\u2013 \\\" + format(datum[\\\"bin_step_2_Count_end\\\"], \\\"\\\")) + \\\"; Number of Users: \\\" + (format(datum[\\\"__count\\\"], \\\"\\\")) + \\\"; Count: \\\" + (format(datum[\\\"Count\\\"], \\\"\\\")) + \\\"; Count of Records: \\\" + (format(datum[\\\"__count\\\"], \\\"\\\"))\"}, \"y2\": {\"value\": 0, \"scale\": \"y\"}}}, \"style\": [\"bar\"]}], \"scales\": [{\"name\": \"x\", \"type\": \"linear\", \"domain\": {\"signal\": \"[bin_step_2_Count_bins.start, bin_step_2_Count_bins.stop]\"}, \"range\": [0, {\"signal\": \"width\"}], \"bins\": {\"signal\": \"bin_step_2_Count_bins\"}, \"zero\": false}, {\"name\": \"y\", \"type\": \"linear\", \"domain\": [{\"signal\": \"(data(\\\"source_0_y_domain___count\\\")[0] || {}).min\"}, {\"signal\": \"(data(\\\"source_0_y_domain___count\\\")[0] || {}).max\"}], \"range\": [{\"signal\": \"height\"}, 0], \"nice\": true, \"zero\": true}], \"axes\": [{\"scale\": \"y\", \"maxExtent\": 0, \"tickCount\": {\"signal\": \"ceil(height/40)\"}, \"gridScale\": \"x\", \"orient\": \"left\", \"domain\": false, \"labels\": false, \"minExtent\": 0, \"ticks\": false, \"grid\": true, \"zindex\": 0, \"aria\": false}, {\"scale\": \"x\", \"labelFlush\": true, \"tickCount\": {\"signal\": \"ceil(width/10)\"}, \"title\": \"Number of Ratings\", \"orient\": \"bottom\", \"zindex\": 0, \"labelOverlap\": true, \"grid\": false}, {\"scale\": \"y\", \"zindex\": 0, \"title\": \"Number of Users\", \"grid\": false, \"tickCount\": {\"signal\": \"ceil(height/40)\"}, \"orient\": \"left\", \"labelOverlap\": true}], \"title\": {\"text\": \"Distribution of the Number of Ratings per User\", \"frame\": \"group\"}, \"style\": \"cell\", \"width\": 600, \"background\": \"white\", \"padding\": 5, \"height\": 400}, {\"mode\": \"vega\"});\n",
       "</script>"
      ],
      "text/plain": [
       "alt.Chart(...)"
      ]
     },
     "execution_count": 38,
     "metadata": {},
     "output_type": "execute_result"
    }
   ],
   "source": [
    "# Create an Altair bar chart\n",
    "\n",
    "# Create a new DataFrame with the count of occurrences for each user\n",
    "user_counts = ml_1m['User'].value_counts().reset_index()\n",
    "user_counts.columns = ['User', 'Count']\n",
    "\n",
    "# Create an Altair histogram with bins\n",
    "chart_user = alt.Chart(user_counts).mark_bar().encode(\n",
    "    alt.X('Count:Q', bin=alt.Bin(step=2), title='Number of Ratings'),\n",
    "    alt.Y('count():Q', title='Number of Users'),\n",
    "    tooltip=['Count:Q', 'count()']\n",
    ").properties(\n",
    "    width=600,\n",
    "    height=400,\n",
    "    title='Distribution of the Number of Ratings per User'\n",
    ")\n",
    "\n",
    "chart_user"
   ]
  },
  {
   "cell_type": "code",
   "execution_count": 39,
   "metadata": {},
   "outputs": [
    {
     "data": {
      "text/html": [
       "<div>\n",
       "<style scoped>\n",
       "    .dataframe tbody tr th:only-of-type {\n",
       "        vertical-align: middle;\n",
       "    }\n",
       "\n",
       "    .dataframe tbody tr th {\n",
       "        vertical-align: top;\n",
       "    }\n",
       "\n",
       "    .dataframe thead th {\n",
       "        text-align: right;\n",
       "    }\n",
       "</style>\n",
       "<table border=\"1\" class=\"dataframe\">\n",
       "  <thead>\n",
       "    <tr style=\"text-align: right;\">\n",
       "      <th></th>\n",
       "      <th>User</th>\n",
       "      <th>Count</th>\n",
       "    </tr>\n",
       "  </thead>\n",
       "  <tbody>\n",
       "    <tr>\n",
       "      <th>count</th>\n",
       "      <td>6040.000000</td>\n",
       "      <td>6040.000000</td>\n",
       "    </tr>\n",
       "    <tr>\n",
       "      <th>mean</th>\n",
       "      <td>3020.500000</td>\n",
       "      <td>165.597517</td>\n",
       "    </tr>\n",
       "    <tr>\n",
       "      <th>std</th>\n",
       "      <td>1743.742145</td>\n",
       "      <td>192.747029</td>\n",
       "    </tr>\n",
       "    <tr>\n",
       "      <th>min</th>\n",
       "      <td>1.000000</td>\n",
       "      <td>20.000000</td>\n",
       "    </tr>\n",
       "    <tr>\n",
       "      <th>25%</th>\n",
       "      <td>1510.750000</td>\n",
       "      <td>44.000000</td>\n",
       "    </tr>\n",
       "    <tr>\n",
       "      <th>50%</th>\n",
       "      <td>3020.500000</td>\n",
       "      <td>96.000000</td>\n",
       "    </tr>\n",
       "    <tr>\n",
       "      <th>75%</th>\n",
       "      <td>4530.250000</td>\n",
       "      <td>208.000000</td>\n",
       "    </tr>\n",
       "    <tr>\n",
       "      <th>max</th>\n",
       "      <td>6040.000000</td>\n",
       "      <td>2314.000000</td>\n",
       "    </tr>\n",
       "  </tbody>\n",
       "</table>\n",
       "</div>"
      ],
      "text/plain": [
       "              User        Count\n",
       "count  6040.000000  6040.000000\n",
       "mean   3020.500000   165.597517\n",
       "std    1743.742145   192.747029\n",
       "min       1.000000    20.000000\n",
       "25%    1510.750000    44.000000\n",
       "50%    3020.500000    96.000000\n",
       "75%    4530.250000   208.000000\n",
       "max    6040.000000  2314.000000"
      ]
     },
     "execution_count": 39,
     "metadata": {},
     "output_type": "execute_result"
    }
   ],
   "source": [
    "user_counts.describe()"
   ]
  },
  {
   "cell_type": "markdown",
   "metadata": {},
   "source": [
    "## Add user and item information"
   ]
  },
  {
   "cell_type": "code",
   "execution_count": 40,
   "metadata": {},
   "outputs": [],
   "source": [
    "column_names_items = [\n",
    "    'Movie', 'Title', 'ReleaseDate', 'Empty1', 'IMDbURL',\n",
    "    'Genre_unknown', 'Genre_Action', 'Genre_Adventure', 'Genre_Annimation', 'Genre_Children', 'Genre_Comedy', 'Genre_Crime', \n",
    "    'Genre_Documentary', 'Genre_Drama', 'Genre_Fantasy', 'Genre_Film-Noir', 'Genre_Horror', 'Genre_Musical', 'Genre_Mystery',\n",
    "    'Genre_Romance', 'Genre_Sci-Fi', 'Genre_Thriller', 'Genre_War', 'Genre_Western'\n",
    "]\n",
    "\n",
    "# Read the data into a pandas DataFrame\n",
    "ml_100k_genres = pd.read_csv('ml-100k/u.item', sep='|', names=column_names_items, encoding='latin1')\n",
    "\n",
    "#create a release date timespamp\n",
    "ml_100k_genres['ReleaseDate'] = pd.to_datetime(ml_100k_genres['ReleaseDate'], errors='coerce')\n",
    "\n",
    "# drop columns without information\n",
    "ml_100k_genres = ml_100k_genres.drop(columns=['Title', 'Empty1', 'IMDbURL'])"
   ]
  },
  {
   "cell_type": "code",
   "execution_count": 41,
   "metadata": {},
   "outputs": [],
   "source": [
    "def get_genres(row):\n",
    "    genres = [col.replace('Genre_', '') for col in column_names_items[5:] if row[col] == 1]\n",
    "    return '|'.join(genres)\n",
    "\n",
    "\n",
    "ml_100k_genres['Genre'] = ml_100k_genres.apply(get_genres, axis=1)\n",
    "\n",
    "ml_100k_genres = ml_100k_genres.drop(columns=['Genre_unknown', 'Genre_Action', 'Genre_Adventure', 'Genre_Annimation', 'Genre_Children', 'Genre_Comedy', 'Genre_Crime', \n",
    "    'Genre_Documentary', 'Genre_Drama', 'Genre_Fantasy', 'Genre_Film-Noir', 'Genre_Horror', 'Genre_Musical', 'Genre_Mystery',\n",
    "    'Genre_Romance', 'Genre_Sci-Fi', 'Genre_Thriller', 'Genre_War', 'Genre_Western'])"
   ]
  },
  {
   "cell_type": "code",
   "execution_count": 42,
   "metadata": {},
   "outputs": [
    {
     "data": {
      "text/plain": [
       "['1991-2000', '1971-1980', '1981-1990', '1951-1970', '1919-1950']\n",
       "Categories (5, object): ['1919-1950' < '1951-1970' < '1971-1980' < '1981-1990' < '1991-2000']"
      ]
     },
     "execution_count": 42,
     "metadata": {},
     "output_type": "execute_result"
    }
   ],
   "source": [
    "# 1M\n",
    "ml_1M_genres = pd.read_csv('ml-1m/movies.dat', sep='::', engine='python', header=None, names=['Movie', 'Titel', 'Genre'], encoding='latin1')\n",
    "ml_1M_genres['Release_Year'] = ml_1M_genres['Titel'].str.extract(r'\\((\\d{4})\\)')\n",
    "ml_1M_genres['Release_Year'] = pd.to_numeric(ml_1M_genres['Release_Year'], errors='coerce')\n",
    "ml_1M_genres = ml_1M_genres.drop(columns='Titel')\n",
    "\n",
    "# categorize release year\n",
    "# Define the bins for categorization\n",
    "bins = [0, 1950, 1971, 1981, 1991, 2001]\n",
    "labels = ['1919-1950', '1951-1970', '1971-1980', '1981-1990', '1991-2000']\n",
    "\n",
    "# Categorize the 'Year' column into the specified groups\n",
    "ml_1M_genres['Release_Year'] = pd.cut(ml_1M_genres['Release_Year'], bins=bins, labels=labels, right=False)\n",
    "\n",
    "ml_1M_genres.Release_Year.unique()"
   ]
  },
  {
   "cell_type": "code",
   "execution_count": 43,
   "metadata": {},
   "outputs": [
    {
     "data": {
      "text/html": [
       "\n",
       "<style>\n",
       "  #altair-viz-db7b595890504979b9e52536214d9fec.vega-embed {\n",
       "    width: 100%;\n",
       "    display: flex;\n",
       "  }\n",
       "\n",
       "  #altair-viz-db7b595890504979b9e52536214d9fec.vega-embed details,\n",
       "  #altair-viz-db7b595890504979b9e52536214d9fec.vega-embed details summary {\n",
       "    position: relative;\n",
       "  }\n",
       "</style>\n",
       "<div id=\"altair-viz-db7b595890504979b9e52536214d9fec\"></div>\n",
       "<script type=\"text/javascript\">\n",
       "  var VEGA_DEBUG = (typeof VEGA_DEBUG == \"undefined\") ? {} : VEGA_DEBUG;\n",
       "  (function(spec, embedOpt){\n",
       "    let outputDiv = document.currentScript.previousElementSibling;\n",
       "    if (outputDiv.id !== \"altair-viz-db7b595890504979b9e52536214d9fec\") {\n",
       "      outputDiv = document.getElementById(\"altair-viz-db7b595890504979b9e52536214d9fec\");\n",
       "    }\n",
       "    const paths = {\n",
       "      \"vega\": \"https://cdn.jsdelivr.net/npm/vega@5?noext\",\n",
       "      \"vega-lib\": \"https://cdn.jsdelivr.net/npm/vega-lib?noext\",\n",
       "      \"vega-lite\": \"https://cdn.jsdelivr.net/npm/vega-lite@5.16.3?noext\",\n",
       "      \"vega-embed\": \"https://cdn.jsdelivr.net/npm/vega-embed@6?noext\",\n",
       "    };\n",
       "\n",
       "    function maybeLoadScript(lib, version) {\n",
       "      var key = `${lib.replace(\"-\", \"\")}_version`;\n",
       "      return (VEGA_DEBUG[key] == version) ?\n",
       "        Promise.resolve(paths[lib]) :\n",
       "        new Promise(function(resolve, reject) {\n",
       "          var s = document.createElement('script');\n",
       "          document.getElementsByTagName(\"head\")[0].appendChild(s);\n",
       "          s.async = true;\n",
       "          s.onload = () => {\n",
       "            VEGA_DEBUG[key] = version;\n",
       "            return resolve(paths[lib]);\n",
       "          };\n",
       "          s.onerror = () => reject(`Error loading script: ${paths[lib]}`);\n",
       "          s.src = paths[lib];\n",
       "        });\n",
       "    }\n",
       "\n",
       "    function showError(err) {\n",
       "      outputDiv.innerHTML = `<div class=\"error\" style=\"color:red;\">${err}</div>`;\n",
       "      throw err;\n",
       "    }\n",
       "\n",
       "    function displayChart(vegaEmbed) {\n",
       "      vegaEmbed(outputDiv, spec, embedOpt)\n",
       "        .catch(err => showError(`Javascript Error: ${err.message}<br>This usually means there's a typo in your chart specification. See the javascript console for the full traceback.`));\n",
       "    }\n",
       "\n",
       "    if(typeof define === \"function\" && define.amd) {\n",
       "      requirejs.config({paths});\n",
       "      require([\"vega-embed\"], displayChart, err => showError(`Error loading script: ${err.message}`));\n",
       "    } else {\n",
       "      maybeLoadScript(\"vega\", \"5\")\n",
       "        .then(() => maybeLoadScript(\"vega-lite\", \"5.16.3\"))\n",
       "        .then(() => maybeLoadScript(\"vega-embed\", \"6\"))\n",
       "        .catch(showError)\n",
       "        .then(() => displayChart(vegaEmbed));\n",
       "    }\n",
       "  })({\"$schema\": \"https://vega.github.io/schema/vega/v5.json\", \"data\": [{\"name\": \"source_0\", \"values\": [{\"Release_Year\": \"1991-2000\", \"__count\": 2362}, {\"Release_Year\": \"1971-1980\", \"__count\": 272}, {\"Release_Year\": \"1981-1990\", \"__count\": 634}, {\"Release_Year\": \"1951-1970\", \"__count\": 375}, {\"Release_Year\": \"1919-1950\", \"__count\": 240}]}, {\"name\": \"source_0_x_domain_Release_Year\", \"values\": [{\"Release_Year\": \"1991-2000\"}, {\"Release_Year\": \"1971-1980\"}, {\"Release_Year\": \"1981-1990\"}, {\"Release_Year\": \"1951-1970\"}, {\"Release_Year\": \"1919-1950\"}]}, {\"name\": \"source_0_y_domain___count\", \"values\": [{\"min\": 240, \"max\": 2362}]}], \"marks\": [{\"type\": \"rect\", \"name\": \"marks\", \"from\": {\"data\": \"source_0\"}, \"encode\": {\"update\": {\"tooltip\": {\"signal\": \"{\\\"Count\\\": format(datum[\\\"__count\\\"], \\\"\\\")}\"}, \"description\": {\"signal\": \"\\\"Release Year: \\\" + (isValid(datum[\\\"Release_Year\\\"]) ? datum[\\\"Release_Year\\\"] : \\\"\\\"+datum[\\\"Release_Year\\\"]) + \\\"; Count: \\\" + (format(datum[\\\"__count\\\"], \\\"\\\"))\"}, \"width\": {\"signal\": \"max(0.25, bandwidth('x'))\"}, \"ariaRoleDescription\": {\"value\": \"bar\"}, \"y\": {\"field\": \"__count\", \"scale\": \"y\"}, \"y2\": {\"value\": 0, \"scale\": \"y\"}, \"x\": {\"field\": \"Release_Year\", \"scale\": \"x\"}, \"fill\": {\"value\": \"#4c78a8\"}}}, \"style\": [\"bar\"]}], \"scales\": [{\"name\": \"x\", \"type\": \"band\", \"domain\": {\"data\": \"source_0_x_domain_Release_Year\", \"field\": \"Release_Year\", \"sort\": true}, \"range\": [0, {\"signal\": \"width\"}], \"paddingInner\": 0.1, \"paddingOuter\": 0.05}, {\"name\": \"y\", \"type\": \"linear\", \"domain\": [{\"signal\": \"(data(\\\"source_0_y_domain___count\\\")[0] || {}).min\"}, {\"signal\": \"(data(\\\"source_0_y_domain___count\\\")[0] || {}).max\"}], \"range\": [{\"signal\": \"height\"}, 0], \"zero\": true, \"nice\": true}], \"axes\": [{\"scale\": \"y\", \"ticks\": false, \"domain\": false, \"zindex\": 0, \"tickCount\": {\"signal\": \"ceil(height/40)\"}, \"grid\": true, \"aria\": false, \"gridScale\": \"x\", \"orient\": \"left\", \"labels\": false, \"maxExtent\": 0, \"minExtent\": 0}, {\"scale\": \"x\", \"orient\": \"bottom\", \"labelAngle\": 0, \"zindex\": 0, \"labelBaseline\": \"top\", \"grid\": false, \"title\": \"Release Year\"}, {\"scale\": \"y\", \"orient\": \"left\", \"title\": \"Count\", \"tickCount\": {\"signal\": \"ceil(height/40)\"}, \"zindex\": 0, \"grid\": false, \"labelOverlap\": true}], \"title\": {\"text\": \"Distribution of Movie Release Years\", \"frame\": \"group\"}, \"height\": 400, \"style\": \"cell\", \"width\": 600, \"padding\": 5, \"background\": \"white\"}, {\"mode\": \"vega\"});\n",
       "</script>"
      ],
      "text/plain": [
       "alt.Chart(...)"
      ]
     },
     "execution_count": 43,
     "metadata": {},
     "output_type": "execute_result"
    }
   ],
   "source": [
    "chart_movie_year = alt.Chart(ml_1M_genres).mark_bar().encode(\n",
    "    x=alt.X('Release_Year:N', title='Release Year', axis=alt.Axis(labelAngle=-0)),\n",
    "    y=alt.Y('count():Q', title='Count'),\n",
    "    tooltip=[alt.Tooltip('count()', title='Count')]\n",
    ").properties(\n",
    "    width=600,\n",
    "    height=400,\n",
    "    title='Distribution of Movie Release Years'\n",
    ")\n",
    "\n",
    "chart_movie_year"
   ]
  },
  {
   "cell_type": "code",
   "execution_count": 44,
   "metadata": {},
   "outputs": [],
   "source": [
    "column_names_user = [\n",
    "    'User', 'Age', 'Gender', 'Occupation', 'ZIPCode'\n",
    "]\n",
    "\n",
    "# Read the data into a pandas DataFrame\n",
    "ml_100k_user = pd.read_csv('ml-100k/u.user', sep='|', names=column_names_user, encoding='latin1')\n",
    "\n",
    "# drop no longer needed column\n",
    "ml_100k_user = ml_100k_user.drop(columns=['ZIPCode'])"
   ]
  },
  {
   "cell_type": "markdown",
   "metadata": {},
   "source": [
    "We have 943 different users and 795 different ZIP Codes, as this would add little value while creating a lot of additional columns, we will ignore the ZIP code and drop it from our dataset."
   ]
  },
  {
   "cell_type": "code",
   "execution_count": 45,
   "metadata": {},
   "outputs": [
    {
     "name": "stdout",
     "output_type": "stream",
     "text": [
      "Number of different ZIP codes in the dataset: 3439\n",
      "Number of different users in the dataset: 6040\n",
      "********************\n",
      "Number of male users: 4331\n",
      "Number of female users: 1709\n"
     ]
    }
   ],
   "source": [
    "# 1M\n",
    "ml_1M_user = pd.read_csv('ml-1m/users.dat', sep='::', engine='python', header=None, names=['User', 'Gender', 'Age', 'Occupation', 'ZIPCode'], encoding='latin1')\n",
    "\n",
    "# check whether ZIP Code is a usefull feature\n",
    "print(f'Number of different ZIP codes in the dataset: {len(ml_1M_user.ZIPCode.unique())}')\n",
    "print(f'Number of different users in the dataset: {len(ml_1M_user.User.unique())}')\n",
    "ml_1M_user.drop(columns='ZIPCode', inplace=True)\n",
    "\n",
    "#check gender distribution\n",
    "print('*'*20)\n",
    "print(f\"Number of male users: {len(ml_1M_user[ml_1M_user['Gender']=='M'])}\")\n",
    "print(f\"Number of female users: {len(ml_1M_user[ml_1M_user['Gender']=='F'])}\")"
   ]
  },
  {
   "cell_type": "code",
   "execution_count": 46,
   "metadata": {},
   "outputs": [
    {
     "data": {
      "text/html": [
       "<div>\n",
       "<style scoped>\n",
       "    .dataframe tbody tr th:only-of-type {\n",
       "        vertical-align: middle;\n",
       "    }\n",
       "\n",
       "    .dataframe tbody tr th {\n",
       "        vertical-align: top;\n",
       "    }\n",
       "\n",
       "    .dataframe thead th {\n",
       "        text-align: right;\n",
       "    }\n",
       "</style>\n",
       "<table border=\"1\" class=\"dataframe\">\n",
       "  <thead>\n",
       "    <tr style=\"text-align: right;\">\n",
       "      <th></th>\n",
       "      <th>Age</th>\n",
       "      <th>Count</th>\n",
       "    </tr>\n",
       "  </thead>\n",
       "  <tbody>\n",
       "    <tr>\n",
       "      <th>0</th>\n",
       "      <td>25</td>\n",
       "      <td>2096</td>\n",
       "    </tr>\n",
       "    <tr>\n",
       "      <th>1</th>\n",
       "      <td>35</td>\n",
       "      <td>1193</td>\n",
       "    </tr>\n",
       "    <tr>\n",
       "      <th>2</th>\n",
       "      <td>18</td>\n",
       "      <td>1103</td>\n",
       "    </tr>\n",
       "    <tr>\n",
       "      <th>3</th>\n",
       "      <td>45</td>\n",
       "      <td>550</td>\n",
       "    </tr>\n",
       "    <tr>\n",
       "      <th>4</th>\n",
       "      <td>50</td>\n",
       "      <td>496</td>\n",
       "    </tr>\n",
       "    <tr>\n",
       "      <th>5</th>\n",
       "      <td>56</td>\n",
       "      <td>380</td>\n",
       "    </tr>\n",
       "    <tr>\n",
       "      <th>6</th>\n",
       "      <td>1</td>\n",
       "      <td>222</td>\n",
       "    </tr>\n",
       "  </tbody>\n",
       "</table>\n",
       "</div>"
      ],
      "text/plain": [
       "   Age  Count\n",
       "0   25   2096\n",
       "1   35   1193\n",
       "2   18   1103\n",
       "3   45    550\n",
       "4   50    496\n",
       "5   56    380\n",
       "6    1    222"
      ]
     },
     "execution_count": 46,
     "metadata": {},
     "output_type": "execute_result"
    }
   ],
   "source": [
    "user_age = ml_1M_user['Age'].value_counts().reset_index()\n",
    "user_age.columns = ['Age', 'Count']\n",
    "\n",
    "user_age"
   ]
  },
  {
   "cell_type": "code",
   "execution_count": 47,
   "metadata": {},
   "outputs": [
    {
     "data": {
      "text/html": [
       "<div>\n",
       "<style scoped>\n",
       "    .dataframe tbody tr th:only-of-type {\n",
       "        vertical-align: middle;\n",
       "    }\n",
       "\n",
       "    .dataframe tbody tr th {\n",
       "        vertical-align: top;\n",
       "    }\n",
       "\n",
       "    .dataframe thead th {\n",
       "        text-align: right;\n",
       "    }\n",
       "</style>\n",
       "<table border=\"1\" class=\"dataframe\">\n",
       "  <thead>\n",
       "    <tr style=\"text-align: right;\">\n",
       "      <th></th>\n",
       "      <th>Occupation</th>\n",
       "      <th>Count</th>\n",
       "    </tr>\n",
       "  </thead>\n",
       "  <tbody>\n",
       "    <tr>\n",
       "      <th>0</th>\n",
       "      <td>4</td>\n",
       "      <td>759</td>\n",
       "    </tr>\n",
       "    <tr>\n",
       "      <th>1</th>\n",
       "      <td>0</td>\n",
       "      <td>711</td>\n",
       "    </tr>\n",
       "    <tr>\n",
       "      <th>2</th>\n",
       "      <td>7</td>\n",
       "      <td>679</td>\n",
       "    </tr>\n",
       "    <tr>\n",
       "      <th>3</th>\n",
       "      <td>1</td>\n",
       "      <td>528</td>\n",
       "    </tr>\n",
       "    <tr>\n",
       "      <th>4</th>\n",
       "      <td>17</td>\n",
       "      <td>502</td>\n",
       "    </tr>\n",
       "    <tr>\n",
       "      <th>5</th>\n",
       "      <td>12</td>\n",
       "      <td>388</td>\n",
       "    </tr>\n",
       "    <tr>\n",
       "      <th>6</th>\n",
       "      <td>14</td>\n",
       "      <td>302</td>\n",
       "    </tr>\n",
       "    <tr>\n",
       "      <th>7</th>\n",
       "      <td>20</td>\n",
       "      <td>281</td>\n",
       "    </tr>\n",
       "    <tr>\n",
       "      <th>8</th>\n",
       "      <td>2</td>\n",
       "      <td>267</td>\n",
       "    </tr>\n",
       "    <tr>\n",
       "      <th>9</th>\n",
       "      <td>16</td>\n",
       "      <td>241</td>\n",
       "    </tr>\n",
       "    <tr>\n",
       "      <th>10</th>\n",
       "      <td>6</td>\n",
       "      <td>236</td>\n",
       "    </tr>\n",
       "    <tr>\n",
       "      <th>11</th>\n",
       "      <td>10</td>\n",
       "      <td>195</td>\n",
       "    </tr>\n",
       "    <tr>\n",
       "      <th>12</th>\n",
       "      <td>3</td>\n",
       "      <td>173</td>\n",
       "    </tr>\n",
       "    <tr>\n",
       "      <th>13</th>\n",
       "      <td>15</td>\n",
       "      <td>144</td>\n",
       "    </tr>\n",
       "    <tr>\n",
       "      <th>14</th>\n",
       "      <td>13</td>\n",
       "      <td>142</td>\n",
       "    </tr>\n",
       "    <tr>\n",
       "      <th>15</th>\n",
       "      <td>11</td>\n",
       "      <td>129</td>\n",
       "    </tr>\n",
       "    <tr>\n",
       "      <th>16</th>\n",
       "      <td>5</td>\n",
       "      <td>112</td>\n",
       "    </tr>\n",
       "    <tr>\n",
       "      <th>17</th>\n",
       "      <td>9</td>\n",
       "      <td>92</td>\n",
       "    </tr>\n",
       "    <tr>\n",
       "      <th>18</th>\n",
       "      <td>19</td>\n",
       "      <td>72</td>\n",
       "    </tr>\n",
       "    <tr>\n",
       "      <th>19</th>\n",
       "      <td>18</td>\n",
       "      <td>70</td>\n",
       "    </tr>\n",
       "    <tr>\n",
       "      <th>20</th>\n",
       "      <td>8</td>\n",
       "      <td>17</td>\n",
       "    </tr>\n",
       "  </tbody>\n",
       "</table>\n",
       "</div>"
      ],
      "text/plain": [
       "    Occupation  Count\n",
       "0            4    759\n",
       "1            0    711\n",
       "2            7    679\n",
       "3            1    528\n",
       "4           17    502\n",
       "5           12    388\n",
       "6           14    302\n",
       "7           20    281\n",
       "8            2    267\n",
       "9           16    241\n",
       "10           6    236\n",
       "11          10    195\n",
       "12           3    173\n",
       "13          15    144\n",
       "14          13    142\n",
       "15          11    129\n",
       "16           5    112\n",
       "17           9     92\n",
       "18          19     72\n",
       "19          18     70\n",
       "20           8     17"
      ]
     },
     "execution_count": 47,
     "metadata": {},
     "output_type": "execute_result"
    }
   ],
   "source": [
    "user_oc = ml_1M_user['Occupation'].value_counts().reset_index()\n",
    "user_oc.columns = ['Occupation', 'Count']\n",
    "\n",
    "user_oc"
   ]
  },
  {
   "cell_type": "markdown",
   "metadata": {},
   "source": [
    "### Join Datasets"
   ]
  },
  {
   "cell_type": "code",
   "execution_count": 48,
   "metadata": {},
   "outputs": [],
   "source": [
    "ml_100k_full = pd.merge(ml_100k, ml_100k_user, on = 'User', how = 'left')\n",
    "ml_100k_full = pd.merge(ml_100k_full, ml_100k_genres, on = 'Movie', how = 'left')\n",
    "\n",
    "ml_1M_full = pd.merge(ml_1m, ml_1M_user, on = 'User', how = 'left')\n",
    "ml_1M_full = pd.merge(ml_1M_full, ml_1M_genres, on = 'Movie', how = 'left')"
   ]
  },
  {
   "cell_type": "code",
   "execution_count": 49,
   "metadata": {},
   "outputs": [],
   "source": [
    "#save to  csv\n",
    "ml_100k_full.to_csv('ml_100k_full.csv', index=False)\n",
    "ml_1M_full.to_csv('ml_1M_full.csv', index=False)"
   ]
  }
 ],
 "metadata": {
  "kernelspec": {
   "display_name": "Python 3",
   "language": "python",
   "name": "python3"
  },
  "language_info": {
   "codemirror_mode": {
    "name": "ipython",
    "version": 3
   },
   "file_extension": ".py",
   "mimetype": "text/x-python",
   "name": "python",
   "nbconvert_exporter": "python",
   "pygments_lexer": "ipython3",
   "version": "3.11.8"
  }
 },
 "nbformat": 4,
 "nbformat_minor": 2
}
